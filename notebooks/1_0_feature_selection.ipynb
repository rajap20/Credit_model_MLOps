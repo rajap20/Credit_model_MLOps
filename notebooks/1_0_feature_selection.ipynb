{
  "nbformat": 4,
  "nbformat_minor": 0,
  "metadata": {
    "colab": {
      "name": "1.0-feature-selection.ipynb",
      "provenance": []
    },
    "kernelspec": {
      "name": "python3",
      "display_name": "Python 3"
    },
    "language_info": {
      "name": "python"
    }
  },
  "cells": [
    {
      "cell_type": "code",
      "metadata": {
        "colab": {
          "base_uri": "https://localhost:8080/"
        },
        "id": "8CxAhjaoupJs",
        "outputId": "91ceb4ad-9df5-4a6c-91ee-b293f6b33707"
      },
      "source": [
        "!pip install category_encoders"
      ],
      "execution_count": null,
      "outputs": [
        {
          "output_type": "stream",
          "name": "stdout",
          "text": [
            "Requirement already satisfied: category_encoders in /usr/local/lib/python3.7/dist-packages (2.3.0)\n",
            "Requirement already satisfied: statsmodels>=0.9.0 in /usr/local/lib/python3.7/dist-packages (from category_encoders) (0.10.2)\n",
            "Requirement already satisfied: scipy>=1.0.0 in /usr/local/lib/python3.7/dist-packages (from category_encoders) (1.4.1)\n",
            "Requirement already satisfied: patsy>=0.5.1 in /usr/local/lib/python3.7/dist-packages (from category_encoders) (0.5.2)\n",
            "Requirement already satisfied: numpy>=1.14.0 in /usr/local/lib/python3.7/dist-packages (from category_encoders) (1.19.5)\n",
            "Requirement already satisfied: pandas>=0.21.1 in /usr/local/lib/python3.7/dist-packages (from category_encoders) (1.1.5)\n",
            "Requirement already satisfied: scikit-learn>=0.20.0 in /usr/local/lib/python3.7/dist-packages (from category_encoders) (1.0.1)\n",
            "Requirement already satisfied: python-dateutil>=2.7.3 in /usr/local/lib/python3.7/dist-packages (from pandas>=0.21.1->category_encoders) (2.8.2)\n",
            "Requirement already satisfied: pytz>=2017.2 in /usr/local/lib/python3.7/dist-packages (from pandas>=0.21.1->category_encoders) (2018.9)\n",
            "Requirement already satisfied: six in /usr/local/lib/python3.7/dist-packages (from patsy>=0.5.1->category_encoders) (1.15.0)\n",
            "Requirement already satisfied: threadpoolctl>=2.0.0 in /usr/local/lib/python3.7/dist-packages (from scikit-learn>=0.20.0->category_encoders) (3.0.0)\n",
            "Requirement already satisfied: joblib>=0.11 in /usr/local/lib/python3.7/dist-packages (from scikit-learn>=0.20.0->category_encoders) (1.1.0)\n"
          ]
        }
      ]
    },
    {
      "cell_type": "code",
      "metadata": {
        "id": "318ort_vn6PF",
        "colab": {
          "base_uri": "https://localhost:8080/"
        },
        "outputId": "58005714-0aa7-40e4-b6a4-0651bd0d74dc"
      },
      "source": [
        "import pandas as pd\n",
        "import numpy as np\n",
        "import sklearn\n",
        "from category_encoders import TargetEncoder"
      ],
      "execution_count": null,
      "outputs": [
        {
          "output_type": "stream",
          "name": "stderr",
          "text": [
            "/usr/local/lib/python3.7/dist-packages/statsmodels/tools/_testing.py:19: FutureWarning: pandas.util.testing is deprecated. Use the functions in the public API at pandas.testing instead.\n",
            "  import pandas.util.testing as tm\n"
          ]
        }
      ]
    },
    {
      "cell_type": "code",
      "metadata": {
        "id": "NcDUeB_6oLe_"
      },
      "source": [
        "df = pd.read_csv('https://raw.githubusercontent.com/rajap20/streamlit-example/master/data_final.csv')"
      ],
      "execution_count": null,
      "outputs": []
    },
    {
      "cell_type": "code",
      "metadata": {
        "colab": {
          "base_uri": "https://localhost:8080/",
          "height": 296
        },
        "id": "bsTbrWWsoNXy",
        "outputId": "b0f2e1b6-6abf-4df3-baa2-4a2be9c5beef"
      },
      "source": [
        "df.head(5)"
      ],
      "execution_count": null,
      "outputs": [
        {
          "output_type": "execute_result",
          "data": {
            "text/html": [
              "<div>\n",
              "<style scoped>\n",
              "    .dataframe tbody tr th:only-of-type {\n",
              "        vertical-align: middle;\n",
              "    }\n",
              "\n",
              "    .dataframe tbody tr th {\n",
              "        vertical-align: top;\n",
              "    }\n",
              "\n",
              "    .dataframe thead th {\n",
              "        text-align: right;\n",
              "    }\n",
              "</style>\n",
              "<table border=\"1\" class=\"dataframe\">\n",
              "  <thead>\n",
              "    <tr style=\"text-align: right;\">\n",
              "      <th></th>\n",
              "      <th>Customer_id</th>\n",
              "      <th>Date_disb</th>\n",
              "      <th>pay_type</th>\n",
              "      <th>area_code</th>\n",
              "      <th>pin_code</th>\n",
              "      <th>state</th>\n",
              "      <th>dealer</th>\n",
              "      <th>product_code</th>\n",
              "      <th>tenure</th>\n",
              "      <th>roi</th>\n",
              "      <th>emi</th>\n",
              "      <th>proc_fee</th>\n",
              "      <th>asset_cost</th>\n",
              "      <th>loan_amt</th>\n",
              "      <th>gender</th>\n",
              "      <th>qualification</th>\n",
              "      <th>employ_type</th>\n",
              "      <th>resid_type</th>\n",
              "      <th>age</th>\n",
              "      <th>cibil_score</th>\n",
              "      <th>net_salary</th>\n",
              "      <th>net_irr</th>\n",
              "      <th>fraud</th>\n",
              "    </tr>\n",
              "  </thead>\n",
              "  <tbody>\n",
              "    <tr>\n",
              "      <th>0</th>\n",
              "      <td>0</td>\n",
              "      <td>2/13/2020</td>\n",
              "      <td>ACH</td>\n",
              "      <td>3075</td>\n",
              "      <td>530041</td>\n",
              "      <td>AP</td>\n",
              "      <td>DEALER</td>\n",
              "      <td>SC</td>\n",
              "      <td>0.470588</td>\n",
              "      <td>-0.793282</td>\n",
              "      <td>0.124252</td>\n",
              "      <td>-0.093758</td>\n",
              "      <td>87000</td>\n",
              "      <td>71000</td>\n",
              "      <td>M</td>\n",
              "      <td>OTHERS</td>\n",
              "      <td>SAL</td>\n",
              "      <td>O</td>\n",
              "      <td>0.306122</td>\n",
              "      <td>-0.906781</td>\n",
              "      <td>0.158169</td>\n",
              "      <td>-1.321153</td>\n",
              "      <td>0</td>\n",
              "    </tr>\n",
              "    <tr>\n",
              "      <th>1</th>\n",
              "      <td>1</td>\n",
              "      <td>06-02-2020</td>\n",
              "      <td>ADM</td>\n",
              "      <td>3075</td>\n",
              "      <td>532123</td>\n",
              "      <td>AP</td>\n",
              "      <td>DEALER</td>\n",
              "      <td>SC</td>\n",
              "      <td>0.352941</td>\n",
              "      <td>-0.952045</td>\n",
              "      <td>0.083863</td>\n",
              "      <td>-0.572295</td>\n",
              "      <td>61500</td>\n",
              "      <td>51000</td>\n",
              "      <td>F</td>\n",
              "      <td>PG</td>\n",
              "      <td>SAL</td>\n",
              "      <td>O</td>\n",
              "      <td>0.551020</td>\n",
              "      <td>0.163204</td>\n",
              "      <td>1.161336</td>\n",
              "      <td>-1.308269</td>\n",
              "      <td>0</td>\n",
              "    </tr>\n",
              "    <tr>\n",
              "      <th>2</th>\n",
              "      <td>2</td>\n",
              "      <td>10-02-2020</td>\n",
              "      <td>ADM</td>\n",
              "      <td>3075</td>\n",
              "      <td>533218</td>\n",
              "      <td>AP</td>\n",
              "      <td>ASC</td>\n",
              "      <td>SC</td>\n",
              "      <td>0.352941</td>\n",
              "      <td>0.318061</td>\n",
              "      <td>0.210079</td>\n",
              "      <td>0.913555</td>\n",
              "      <td>87000</td>\n",
              "      <td>74038</td>\n",
              "      <td>M</td>\n",
              "      <td>SSC</td>\n",
              "      <td>SEP</td>\n",
              "      <td>O</td>\n",
              "      <td>0.530612</td>\n",
              "      <td>NaN</td>\n",
              "      <td>0.910545</td>\n",
              "      <td>0.605033</td>\n",
              "      <td>0</td>\n",
              "    </tr>\n",
              "    <tr>\n",
              "      <th>3</th>\n",
              "      <td>3</td>\n",
              "      <td>10-02-2020</td>\n",
              "      <td>ADM</td>\n",
              "      <td>3075</td>\n",
              "      <td>532484</td>\n",
              "      <td>AP</td>\n",
              "      <td>DEALER</td>\n",
              "      <td>SC</td>\n",
              "      <td>0.352941</td>\n",
              "      <td>-1.309262</td>\n",
              "      <td>0.166511</td>\n",
              "      <td>0.649593</td>\n",
              "      <td>84000</td>\n",
              "      <td>69720</td>\n",
              "      <td>M</td>\n",
              "      <td>OTHERS</td>\n",
              "      <td>AGR</td>\n",
              "      <td>O</td>\n",
              "      <td>0.224490</td>\n",
              "      <td>-0.167982</td>\n",
              "      <td>-0.544048</td>\n",
              "      <td>-1.098901</td>\n",
              "      <td>0</td>\n",
              "    </tr>\n",
              "    <tr>\n",
              "      <th>4</th>\n",
              "      <td>4</td>\n",
              "      <td>10-02-2020</td>\n",
              "      <td>ADM</td>\n",
              "      <td>3075</td>\n",
              "      <td>530046</td>\n",
              "      <td>AP</td>\n",
              "      <td>DEALER</td>\n",
              "      <td>SC</td>\n",
              "      <td>0.352941</td>\n",
              "      <td>-0.713900</td>\n",
              "      <td>0.092091</td>\n",
              "      <td>-0.572295</td>\n",
              "      <td>61500</td>\n",
              "      <td>52220</td>\n",
              "      <td>F</td>\n",
              "      <td>HSC</td>\n",
              "      <td>SAL</td>\n",
              "      <td>O</td>\n",
              "      <td>0.224490</td>\n",
              "      <td>NaN</td>\n",
              "      <td>-0.343415</td>\n",
              "      <td>-0.986164</td>\n",
              "      <td>0</td>\n",
              "    </tr>\n",
              "  </tbody>\n",
              "</table>\n",
              "</div>"
            ],
            "text/plain": [
              "   Customer_id   Date_disb pay_type  ...  net_salary   net_irr fraud\n",
              "0            0   2/13/2020      ACH  ...    0.158169 -1.321153     0\n",
              "1            1  06-02-2020      ADM  ...    1.161336 -1.308269     0\n",
              "2            2  10-02-2020      ADM  ...    0.910545  0.605033     0\n",
              "3            3  10-02-2020      ADM  ...   -0.544048 -1.098901     0\n",
              "4            4  10-02-2020      ADM  ...   -0.343415 -0.986164     0\n",
              "\n",
              "[5 rows x 23 columns]"
            ]
          },
          "metadata": {},
          "execution_count": 4
        }
      ]
    },
    {
      "cell_type": "code",
      "metadata": {
        "colab": {
          "base_uri": "https://localhost:8080/"
        },
        "id": "U7kZw2ivoRrl",
        "outputId": "190c0710-6ac3-45ae-c442-46b3c633c9a0"
      },
      "source": [
        "\n",
        "\n",
        "df.columns"
      ],
      "execution_count": null,
      "outputs": [
        {
          "output_type": "execute_result",
          "data": {
            "text/plain": [
              "Index(['Customer_id', 'Date_disb', 'pay_type', 'area_code', 'pin_code',\n",
              "       'state', 'dealer', 'product_code', 'tenure', 'roi', 'emi', 'proc_fee',\n",
              "       'asset_cost', 'loan_amt', 'gender', 'qualification', 'employ_type',\n",
              "       'resid_type', 'age', 'cibil_score', 'net_salary', 'net_irr', 'fraud'],\n",
              "      dtype='object')"
            ]
          },
          "metadata": {},
          "execution_count": 5
        }
      ]
    },
    {
      "cell_type": "code",
      "metadata": {
        "id": "c564edcd"
      },
      "source": [
        "x_features = ['pay_type', 'area_code','state', 'dealer', 'product_code', 'tenure', 'roi', 'emi', 'proc_fee',\n",
        "       'asset_cost', 'loan_amt', 'gender', 'qualification', 'employ_type',\n",
        "       'resid_type', 'age','net_salary', 'net_irr']\n",
        "#pin_code - Pin Code not included in the model\n",
        "#cibil_score - CIBIL Score not included in the model\n",
        "#Customer_id - customer id not included in the model\n",
        "#Date_disb - date not included in the model"
      ],
      "execution_count": null,
      "outputs": []
    },
    {
      "cell_type": "code",
      "metadata": {
        "colab": {
          "base_uri": "https://localhost:8080/"
        },
        "id": "enua1z02vAnw",
        "outputId": "c1806c34-6794-4656-d645-3a76af793b7b"
      },
      "source": [
        "df = df[x_features + ['fraud']].dropna()\n",
        "df.shape"
      ],
      "execution_count": null,
      "outputs": [
        {
          "output_type": "execute_result",
          "data": {
            "text/plain": [
              "(11698, 19)"
            ]
          },
          "metadata": {},
          "execution_count": 7
        }
      ]
    },
    {
      "cell_type": "code",
      "metadata": {
        "id": "c7b2c49d"
      },
      "source": [
        "cat_features = ['pay_type', 'area_code', 'state', 'dealer', 'product_code','gender', 'qualification', 'employ_type','resid_type']"
      ],
      "execution_count": null,
      "outputs": []
    },
    {
      "cell_type": "code",
      "metadata": {
        "colab": {
          "base_uri": "https://localhost:8080/"
        },
        "id": "TA5ASpYxtV5B",
        "outputId": "07b2d3e4-aa96-446f-db8e-0129bb6364b1"
      },
      "source": [
        "df[cat_features] = df[cat_features].astype(object)\n",
        "df[x_features].info()\n",
        "\n"
      ],
      "execution_count": null,
      "outputs": [
        {
          "output_type": "stream",
          "name": "stdout",
          "text": [
            "<class 'pandas.core.frame.DataFrame'>\n",
            "Int64Index: 11698 entries, 0 to 11701\n",
            "Data columns (total 18 columns):\n",
            " #   Column         Non-Null Count  Dtype  \n",
            "---  ------         --------------  -----  \n",
            " 0   pay_type       11698 non-null  object \n",
            " 1   area_code      11698 non-null  object \n",
            " 2   state          11698 non-null  object \n",
            " 3   dealer         11698 non-null  object \n",
            " 4   product_code   11698 non-null  object \n",
            " 5   tenure         11698 non-null  float64\n",
            " 6   roi            11698 non-null  float64\n",
            " 7   emi            11698 non-null  float64\n",
            " 8   proc_fee       11698 non-null  float64\n",
            " 9   asset_cost     11698 non-null  int64  \n",
            " 10  loan_amt       11698 non-null  int64  \n",
            " 11  gender         11698 non-null  object \n",
            " 12  qualification  11698 non-null  object \n",
            " 13  employ_type    11698 non-null  object \n",
            " 14  resid_type     11698 non-null  object \n",
            " 15  age            11698 non-null  float64\n",
            " 16  net_salary     11698 non-null  float64\n",
            " 17  net_irr        11698 non-null  float64\n",
            "dtypes: float64(7), int64(2), object(9)\n",
            "memory usage: 1.7+ MB\n"
          ]
        }
      ]
    },
    {
      "cell_type": "code",
      "metadata": {
        "id": "1c70299e",
        "colab": {
          "base_uri": "https://localhost:8080/"
        },
        "outputId": "670c8c3c-f997-4342-dbb1-fd07b2d6d811"
      },
      "source": [
        "num_features = list(set(x_features) - set(cat_features))\n",
        "num_features"
      ],
      "execution_count": null,
      "outputs": [
        {
          "output_type": "execute_result",
          "data": {
            "text/plain": [
              "['age',\n",
              " 'proc_fee',\n",
              " 'net_salary',\n",
              " 'tenure',\n",
              " 'asset_cost',\n",
              " 'roi',\n",
              " 'emi',\n",
              " 'loan_amt',\n",
              " 'net_irr']"
            ]
          },
          "metadata": {},
          "execution_count": 10
        }
      ]
    },
    {
      "cell_type": "code",
      "metadata": {
        "id": "I__Y8qIBr8di"
      },
      "source": [
        "target_encoder = TargetEncoder(cols=cat_features, min_samples_leaf=100, smoothing=1000.0)"
      ],
      "execution_count": null,
      "outputs": []
    },
    {
      "cell_type": "code",
      "metadata": {
        "colab": {
          "base_uri": "https://localhost:8080/"
        },
        "id": "ncbb_B0HsFup",
        "outputId": "c2335012-1cf5-4cee-f843-d1af4a7f571a"
      },
      "source": [
        "target_encoder.fit(df[x_features], df.fraud)"
      ],
      "execution_count": null,
      "outputs": [
        {
          "output_type": "execute_result",
          "data": {
            "text/plain": [
              "TargetEncoder(cols=['pay_type', 'area_code', 'state', 'dealer', 'product_code',\n",
              "                    'gender', 'qualification', 'employ_type', 'resid_type'],\n",
              "              min_samples_leaf=100, smoothing=1000.0)"
            ]
          },
          "metadata": {},
          "execution_count": 12
        }
      ]
    },
    {
      "cell_type": "code",
      "metadata": {
        "id": "2r4B53Lgsf2s"
      },
      "source": [
        "df_encoded = target_encoder.transform(df[x_features])"
      ],
      "execution_count": null,
      "outputs": []
    },
    {
      "cell_type": "code",
      "metadata": {
        "colab": {
          "base_uri": "https://localhost:8080/",
          "height": 363
        },
        "id": "wGFB1olUsulU",
        "outputId": "677d9e31-126a-4c0b-9f28-386175eb5fc0"
      },
      "source": [
        "df_encoded.head(10)"
      ],
      "execution_count": null,
      "outputs": [
        {
          "output_type": "execute_result",
          "data": {
            "text/html": [
              "<div>\n",
              "<style scoped>\n",
              "    .dataframe tbody tr th:only-of-type {\n",
              "        vertical-align: middle;\n",
              "    }\n",
              "\n",
              "    .dataframe tbody tr th {\n",
              "        vertical-align: top;\n",
              "    }\n",
              "\n",
              "    .dataframe thead th {\n",
              "        text-align: right;\n",
              "    }\n",
              "</style>\n",
              "<table border=\"1\" class=\"dataframe\">\n",
              "  <thead>\n",
              "    <tr style=\"text-align: right;\">\n",
              "      <th></th>\n",
              "      <th>pay_type</th>\n",
              "      <th>area_code</th>\n",
              "      <th>state</th>\n",
              "      <th>dealer</th>\n",
              "      <th>product_code</th>\n",
              "      <th>tenure</th>\n",
              "      <th>roi</th>\n",
              "      <th>emi</th>\n",
              "      <th>proc_fee</th>\n",
              "      <th>asset_cost</th>\n",
              "      <th>loan_amt</th>\n",
              "      <th>gender</th>\n",
              "      <th>qualification</th>\n",
              "      <th>employ_type</th>\n",
              "      <th>resid_type</th>\n",
              "      <th>age</th>\n",
              "      <th>net_salary</th>\n",
              "      <th>net_irr</th>\n",
              "    </tr>\n",
              "  </thead>\n",
              "  <tbody>\n",
              "    <tr>\n",
              "      <th>0</th>\n",
              "      <td>0.083502</td>\n",
              "      <td>0.045275</td>\n",
              "      <td>0.020545</td>\n",
              "      <td>0.091774</td>\n",
              "      <td>0.088738</td>\n",
              "      <td>0.470588</td>\n",
              "      <td>-0.793282</td>\n",
              "      <td>0.124252</td>\n",
              "      <td>-0.093758</td>\n",
              "      <td>87000</td>\n",
              "      <td>71000</td>\n",
              "      <td>0.069019</td>\n",
              "      <td>0.071796</td>\n",
              "      <td>0.110623</td>\n",
              "      <td>0.06587</td>\n",
              "      <td>0.306122</td>\n",
              "      <td>0.158169</td>\n",
              "      <td>-1.321153</td>\n",
              "    </tr>\n",
              "    <tr>\n",
              "      <th>1</th>\n",
              "      <td>0.069421</td>\n",
              "      <td>0.045275</td>\n",
              "      <td>0.020545</td>\n",
              "      <td>0.091774</td>\n",
              "      <td>0.088738</td>\n",
              "      <td>0.352941</td>\n",
              "      <td>-0.952045</td>\n",
              "      <td>0.083863</td>\n",
              "      <td>-0.572295</td>\n",
              "      <td>61500</td>\n",
              "      <td>51000</td>\n",
              "      <td>0.094573</td>\n",
              "      <td>0.079121</td>\n",
              "      <td>0.110623</td>\n",
              "      <td>0.06587</td>\n",
              "      <td>0.551020</td>\n",
              "      <td>1.161336</td>\n",
              "      <td>-1.308269</td>\n",
              "    </tr>\n",
              "    <tr>\n",
              "      <th>2</th>\n",
              "      <td>0.069421</td>\n",
              "      <td>0.045275</td>\n",
              "      <td>0.020545</td>\n",
              "      <td>0.054599</td>\n",
              "      <td>0.088738</td>\n",
              "      <td>0.352941</td>\n",
              "      <td>0.318061</td>\n",
              "      <td>0.210079</td>\n",
              "      <td>0.913555</td>\n",
              "      <td>87000</td>\n",
              "      <td>74038</td>\n",
              "      <td>0.069019</td>\n",
              "      <td>0.061191</td>\n",
              "      <td>0.066645</td>\n",
              "      <td>0.06587</td>\n",
              "      <td>0.530612</td>\n",
              "      <td>0.910545</td>\n",
              "      <td>0.605033</td>\n",
              "    </tr>\n",
              "    <tr>\n",
              "      <th>3</th>\n",
              "      <td>0.069421</td>\n",
              "      <td>0.045275</td>\n",
              "      <td>0.020545</td>\n",
              "      <td>0.091774</td>\n",
              "      <td>0.088738</td>\n",
              "      <td>0.352941</td>\n",
              "      <td>-1.309262</td>\n",
              "      <td>0.166511</td>\n",
              "      <td>0.649593</td>\n",
              "      <td>84000</td>\n",
              "      <td>69720</td>\n",
              "      <td>0.069019</td>\n",
              "      <td>0.071796</td>\n",
              "      <td>0.041592</td>\n",
              "      <td>0.06587</td>\n",
              "      <td>0.224490</td>\n",
              "      <td>-0.544048</td>\n",
              "      <td>-1.098901</td>\n",
              "    </tr>\n",
              "    <tr>\n",
              "      <th>4</th>\n",
              "      <td>0.069421</td>\n",
              "      <td>0.045275</td>\n",
              "      <td>0.020545</td>\n",
              "      <td>0.091774</td>\n",
              "      <td>0.088738</td>\n",
              "      <td>0.352941</td>\n",
              "      <td>-0.713900</td>\n",
              "      <td>0.092091</td>\n",
              "      <td>-0.572295</td>\n",
              "      <td>61500</td>\n",
              "      <td>52220</td>\n",
              "      <td>0.094573</td>\n",
              "      <td>0.070152</td>\n",
              "      <td>0.110623</td>\n",
              "      <td>0.06587</td>\n",
              "      <td>0.224490</td>\n",
              "      <td>-0.343415</td>\n",
              "      <td>-0.986164</td>\n",
              "    </tr>\n",
              "    <tr>\n",
              "      <th>5</th>\n",
              "      <td>0.069421</td>\n",
              "      <td>0.045275</td>\n",
              "      <td>0.020545</td>\n",
              "      <td>0.091774</td>\n",
              "      <td>0.088738</td>\n",
              "      <td>0.235294</td>\n",
              "      <td>-0.956014</td>\n",
              "      <td>0.150056</td>\n",
              "      <td>-0.448829</td>\n",
              "      <td>61500</td>\n",
              "      <td>51000</td>\n",
              "      <td>0.094573</td>\n",
              "      <td>0.092105</td>\n",
              "      <td>0.110623</td>\n",
              "      <td>0.06587</td>\n",
              "      <td>0.673469</td>\n",
              "      <td>0.158169</td>\n",
              "      <td>-0.921743</td>\n",
              "    </tr>\n",
              "    <tr>\n",
              "      <th>6</th>\n",
              "      <td>0.069421</td>\n",
              "      <td>0.045275</td>\n",
              "      <td>0.020545</td>\n",
              "      <td>0.091774</td>\n",
              "      <td>0.088738</td>\n",
              "      <td>0.352941</td>\n",
              "      <td>-0.436064</td>\n",
              "      <td>0.194185</td>\n",
              "      <td>-0.093758</td>\n",
              "      <td>87000</td>\n",
              "      <td>73000</td>\n",
              "      <td>0.069019</td>\n",
              "      <td>0.061191</td>\n",
              "      <td>0.110623</td>\n",
              "      <td>0.06587</td>\n",
              "      <td>0.142857</td>\n",
              "      <td>-0.343415</td>\n",
              "      <td>-0.126145</td>\n",
              "    </tr>\n",
              "    <tr>\n",
              "      <th>7</th>\n",
              "      <td>0.069421</td>\n",
              "      <td>0.045275</td>\n",
              "      <td>0.020545</td>\n",
              "      <td>0.091774</td>\n",
              "      <td>0.088738</td>\n",
              "      <td>0.411765</td>\n",
              "      <td>-1.190190</td>\n",
              "      <td>0.170157</td>\n",
              "      <td>0.705791</td>\n",
              "      <td>86000</td>\n",
              "      <td>70152</td>\n",
              "      <td>0.069019</td>\n",
              "      <td>0.070152</td>\n",
              "      <td>0.066645</td>\n",
              "      <td>0.06587</td>\n",
              "      <td>0.734694</td>\n",
              "      <td>-0.092623</td>\n",
              "      <td>-0.908859</td>\n",
              "    </tr>\n",
              "    <tr>\n",
              "      <th>8</th>\n",
              "      <td>0.069421</td>\n",
              "      <td>0.045275</td>\n",
              "      <td>0.020545</td>\n",
              "      <td>0.091774</td>\n",
              "      <td>0.088738</td>\n",
              "      <td>0.549020</td>\n",
              "      <td>0.536361</td>\n",
              "      <td>0.141548</td>\n",
              "      <td>0.743257</td>\n",
              "      <td>84000</td>\n",
              "      <td>70684</td>\n",
              "      <td>0.069019</td>\n",
              "      <td>0.070152</td>\n",
              "      <td>0.041592</td>\n",
              "      <td>0.06587</td>\n",
              "      <td>0.224490</td>\n",
              "      <td>0.408961</td>\n",
              "      <td>0.630801</td>\n",
              "    </tr>\n",
              "    <tr>\n",
              "      <th>9</th>\n",
              "      <td>0.069421</td>\n",
              "      <td>0.047452</td>\n",
              "      <td>0.047495</td>\n",
              "      <td>0.091774</td>\n",
              "      <td>0.088738</td>\n",
              "      <td>0.588235</td>\n",
              "      <td>0.754661</td>\n",
              "      <td>0.105553</td>\n",
              "      <td>0.707494</td>\n",
              "      <td>86600</td>\n",
              "      <td>70072</td>\n",
              "      <td>0.094573</td>\n",
              "      <td>0.070152</td>\n",
              "      <td>0.066645</td>\n",
              "      <td>0.06587</td>\n",
              "      <td>0.510204</td>\n",
              "      <td>-0.092623</td>\n",
              "      <td>0.534170</td>\n",
              "    </tr>\n",
              "  </tbody>\n",
              "</table>\n",
              "</div>"
            ],
            "text/plain": [
              "   pay_type  area_code     state  ...       age  net_salary   net_irr\n",
              "0  0.083502   0.045275  0.020545  ...  0.306122    0.158169 -1.321153\n",
              "1  0.069421   0.045275  0.020545  ...  0.551020    1.161336 -1.308269\n",
              "2  0.069421   0.045275  0.020545  ...  0.530612    0.910545  0.605033\n",
              "3  0.069421   0.045275  0.020545  ...  0.224490   -0.544048 -1.098901\n",
              "4  0.069421   0.045275  0.020545  ...  0.224490   -0.343415 -0.986164\n",
              "5  0.069421   0.045275  0.020545  ...  0.673469    0.158169 -0.921743\n",
              "6  0.069421   0.045275  0.020545  ...  0.142857   -0.343415 -0.126145\n",
              "7  0.069421   0.045275  0.020545  ...  0.734694   -0.092623 -0.908859\n",
              "8  0.069421   0.045275  0.020545  ...  0.224490    0.408961  0.630801\n",
              "9  0.069421   0.047452  0.047495  ...  0.510204   -0.092623  0.534170\n",
              "\n",
              "[10 rows x 18 columns]"
            ]
          },
          "metadata": {},
          "execution_count": 14
        }
      ]
    },
    {
      "cell_type": "markdown",
      "metadata": {
        "id": "fUosO8idveJA"
      },
      "source": [
        "# Feature Selection"
      ]
    },
    {
      "cell_type": "markdown",
      "metadata": {
        "id": "t9Du1x--INMw"
      },
      "source": [
        "### Split Dataset"
      ]
    },
    {
      "cell_type": "code",
      "metadata": {
        "id": "vhFpPOKFINMx"
      },
      "source": [
        "from sklearn.model_selection import train_test_split"
      ],
      "execution_count": null,
      "outputs": []
    },
    {
      "cell_type": "code",
      "metadata": {
        "id": "qQWQ5irByEQ1"
      },
      "source": [
        "X = df_encoded\n",
        "y = df['fraud']"
      ],
      "execution_count": null,
      "outputs": []
    },
    {
      "cell_type": "code",
      "metadata": {
        "id": "3_2fODZIINMx"
      },
      "source": [
        "X_train, X_test, y_train, y_test = train_test_split(X,\n",
        "                                                    y,\n",
        "                                                    train_size = 0.8,\n",
        "                                                    random_state = 80)"
      ],
      "execution_count": null,
      "outputs": []
    },
    {
      "cell_type": "markdown",
      "metadata": {
        "id": "XKLUo4XQvjRO"
      },
      "source": [
        "# L1 Selction"
      ]
    },
    {
      "cell_type": "code",
      "metadata": {
        "id": "SIDDLfhUMFZF"
      },
      "source": [
        "from sklearn.linear_model import LogisticRegression"
      ],
      "execution_count": null,
      "outputs": []
    },
    {
      "cell_type": "code",
      "metadata": {
        "id": "3cSaVi00M6Yl"
      },
      "source": [
        "logreg = LogisticRegression( penalty = 'l1', C = 1.0, solver = 'liblinear' )"
      ],
      "execution_count": null,
      "outputs": []
    },
    {
      "cell_type": "code",
      "metadata": {
        "colab": {
          "base_uri": "https://localhost:8080/"
        },
        "id": "zhoVZ0nZNAo8",
        "outputId": "94fabdaa-41e9-4802-cce3-9a79903522d0"
      },
      "source": [
        "logreg.fit(X_train, y_train)"
      ],
      "execution_count": null,
      "outputs": [
        {
          "output_type": "execute_result",
          "data": {
            "text/plain": [
              "LogisticRegression(penalty='l1', solver='liblinear')"
            ]
          },
          "metadata": {},
          "execution_count": 21
        }
      ]
    },
    {
      "cell_type": "code",
      "metadata": {
        "id": "VcFWlC2gRr0x"
      },
      "source": [
        "from sklearn.metrics import classification_report"
      ],
      "execution_count": null,
      "outputs": []
    },
    {
      "cell_type": "code",
      "metadata": {
        "colab": {
          "base_uri": "https://localhost:8080/"
        },
        "id": "Onfx8HmFRqXp",
        "outputId": "602eae3e-1cca-4bb4-8dd0-4b99f2bdff83"
      },
      "source": [
        "print(classification_report(y_test, logreg.predict(X_test)))"
      ],
      "execution_count": null,
      "outputs": [
        {
          "output_type": "stream",
          "name": "stdout",
          "text": [
            "              precision    recall  f1-score   support\n",
            "\n",
            "           0       0.92      1.00      0.96      2154\n",
            "           1       0.00      0.00      0.00       186\n",
            "\n",
            "    accuracy                           0.92      2340\n",
            "   macro avg       0.46      0.50      0.48      2340\n",
            "weighted avg       0.85      0.92      0.88      2340\n",
            "\n"
          ]
        }
      ]
    },
    {
      "cell_type": "code",
      "metadata": {
        "id": "BTK93GQMQsWC"
      },
      "source": [
        "l1_selection_df = pd.DataFrame( {\"features\": x_features,\n",
        "                                 \"coef\": np.round(logreg.coef_[0], 2)} )"
      ],
      "execution_count": null,
      "outputs": []
    },
    {
      "cell_type": "code",
      "metadata": {
        "colab": {
          "base_uri": "https://localhost:8080/",
          "height": 269
        },
        "id": "CIUg2NcQNLLz",
        "outputId": "8ee05580-5ed9-4c3d-891d-4f8a965b4a25"
      },
      "source": [
        "l1_selection_df[l1_selection_df.coef == 0.0]"
      ],
      "execution_count": null,
      "outputs": [
        {
          "output_type": "execute_result",
          "data": {
            "text/html": [
              "<div>\n",
              "<style scoped>\n",
              "    .dataframe tbody tr th:only-of-type {\n",
              "        vertical-align: middle;\n",
              "    }\n",
              "\n",
              "    .dataframe tbody tr th {\n",
              "        vertical-align: top;\n",
              "    }\n",
              "\n",
              "    .dataframe thead th {\n",
              "        text-align: right;\n",
              "    }\n",
              "</style>\n",
              "<table border=\"1\" class=\"dataframe\">\n",
              "  <thead>\n",
              "    <tr style=\"text-align: right;\">\n",
              "      <th></th>\n",
              "      <th>features</th>\n",
              "      <th>coef</th>\n",
              "    </tr>\n",
              "  </thead>\n",
              "  <tbody>\n",
              "    <tr>\n",
              "      <th>0</th>\n",
              "      <td>pay_type</td>\n",
              "      <td>0.0</td>\n",
              "    </tr>\n",
              "    <tr>\n",
              "      <th>4</th>\n",
              "      <td>product_code</td>\n",
              "      <td>0.0</td>\n",
              "    </tr>\n",
              "    <tr>\n",
              "      <th>7</th>\n",
              "      <td>emi</td>\n",
              "      <td>0.0</td>\n",
              "    </tr>\n",
              "    <tr>\n",
              "      <th>9</th>\n",
              "      <td>asset_cost</td>\n",
              "      <td>-0.0</td>\n",
              "    </tr>\n",
              "    <tr>\n",
              "      <th>10</th>\n",
              "      <td>loan_amt</td>\n",
              "      <td>0.0</td>\n",
              "    </tr>\n",
              "    <tr>\n",
              "      <th>11</th>\n",
              "      <td>gender</td>\n",
              "      <td>0.0</td>\n",
              "    </tr>\n",
              "    <tr>\n",
              "      <th>12</th>\n",
              "      <td>qualification</td>\n",
              "      <td>0.0</td>\n",
              "    </tr>\n",
              "  </tbody>\n",
              "</table>\n",
              "</div>"
            ],
            "text/plain": [
              "         features  coef\n",
              "0        pay_type   0.0\n",
              "4    product_code   0.0\n",
              "7             emi   0.0\n",
              "9      asset_cost  -0.0\n",
              "10       loan_amt   0.0\n",
              "11         gender   0.0\n",
              "12  qualification   0.0"
            ]
          },
          "metadata": {},
          "execution_count": 25
        }
      ]
    },
    {
      "cell_type": "markdown",
      "metadata": {
        "id": "qzWYwrG9ibfm"
      },
      "source": [
        "### Sequential Feature Selection"
      ]
    },
    {
      "cell_type": "code",
      "metadata": {
        "colab": {
          "base_uri": "https://localhost:8080/"
        },
        "id": "Y3xwvamNTWG5",
        "outputId": "044feac4-1d76-4cb2-aa02-683074185fcb"
      },
      "source": [
        "import sklearn\n",
        "print(sklearn.__version__)"
      ],
      "execution_count": null,
      "outputs": [
        {
          "output_type": "stream",
          "name": "stdout",
          "text": [
            "1.0.1\n"
          ]
        }
      ]
    },
    {
      "cell_type": "code",
      "metadata": {
        "id": "rzefH9usNV94"
      },
      "source": [
        "from sklearn.feature_selection import SequentialFeatureSelector\n",
        "from sklearn.tree import DecisionTreeClassifier"
      ],
      "execution_count": null,
      "outputs": []
    },
    {
      "cell_type": "code",
      "metadata": {
        "id": "cVRQ5gVXTM-7"
      },
      "source": [
        "tree = DecisionTreeClassifier( max_depth = 10 )"
      ],
      "execution_count": null,
      "outputs": []
    },
    {
      "cell_type": "code",
      "metadata": {
        "id": "cB18wk2aT-BC"
      },
      "source": [
        "sfs = SequentialFeatureSelector(tree, n_features_to_select=10)"
      ],
      "execution_count": null,
      "outputs": []
    },
    {
      "cell_type": "code",
      "metadata": {
        "colab": {
          "base_uri": "https://localhost:8080/"
        },
        "id": "bzqPypLmUMks",
        "outputId": "ee3e4f62-d2a8-446e-a599-eceabd37e14a"
      },
      "source": [
        "sfs.fit(X_train, y_train)"
      ],
      "execution_count": null,
      "outputs": [
        {
          "output_type": "execute_result",
          "data": {
            "text/plain": [
              "SequentialFeatureSelector(estimator=DecisionTreeClassifier(max_depth=10),\n",
              "                          n_features_to_select=10)"
            ]
          },
          "metadata": {},
          "execution_count": 30
        }
      ]
    },
    {
      "cell_type": "code",
      "metadata": {
        "id": "NyETtpr6USQH"
      },
      "source": [
        "sfs_features = [feature for feature, selected in zip(x_features, sfs.support_) if selected == True]"
      ],
      "execution_count": null,
      "outputs": []
    },
    {
      "cell_type": "code",
      "metadata": {
        "colab": {
          "base_uri": "https://localhost:8080/"
        },
        "id": "bzm1FRKuvMWA",
        "outputId": "116379a8-d35f-4610-9717-bc17731e0843"
      },
      "source": [
        "sfs_features"
      ],
      "execution_count": null,
      "outputs": [
        {
          "output_type": "execute_result",
          "data": {
            "text/plain": [
              "['pay_type',\n",
              " 'dealer',\n",
              " 'product_code',\n",
              " 'tenure',\n",
              " 'proc_fee',\n",
              " 'gender',\n",
              " 'qualification',\n",
              " 'employ_type',\n",
              " 'resid_type',\n",
              " 'net_salary']"
            ]
          },
          "metadata": {},
          "execution_count": 32
        }
      ]
    },
    {
      "cell_type": "markdown",
      "metadata": {
        "id": "K3MU8nrTvlbw"
      },
      "source": [
        "\n",
        "### Recursive Feature Elimination (RFE)\n",
        "\n",
        "- Use a machine learning algorithm as a black box evaluator to find the best subsets of features, and so, they are dependent on the estimator.\n",
        "- Trains the model iteratively and each time removes the least important feature using the weights of the algorithm as the criterion.\n",
        "- It is a multivariate method in the sense that it evaluates the relevance of several features considered jointly.\n",
        "- When used as a ranker, in each iteration, the feature that is removed is added into a stack until all features are tested.\n",
        "- More than one feature can be removed at a single step for computational efficiency."
      ]
    },
    {
      "cell_type": "code",
      "metadata": {
        "id": "SnqjkO0FvNd4"
      },
      "source": [
        "from sklearn.feature_selection import RFE"
      ],
      "execution_count": null,
      "outputs": []
    },
    {
      "cell_type": "code",
      "metadata": {
        "colab": {
          "base_uri": "https://localhost:8080/"
        },
        "id": "dBcoJme9vzsi",
        "outputId": "e846fbfd-31ec-4d5f-e316-7867e608bdbb"
      },
      "source": [
        "rfe_selector = RFE(tree, \n",
        "                   n_features_to_select=5, \n",
        "                   step=1, \n",
        "                   verbose=1)\n",
        "rfe_selector.fit(X_train, y_train)"
      ],
      "execution_count": null,
      "outputs": [
        {
          "output_type": "stream",
          "name": "stdout",
          "text": [
            "Fitting estimator with 18 features.\n",
            "Fitting estimator with 17 features.\n",
            "Fitting estimator with 16 features.\n",
            "Fitting estimator with 15 features.\n",
            "Fitting estimator with 14 features.\n",
            "Fitting estimator with 13 features.\n",
            "Fitting estimator with 12 features.\n",
            "Fitting estimator with 11 features.\n",
            "Fitting estimator with 10 features.\n",
            "Fitting estimator with 9 features.\n",
            "Fitting estimator with 8 features.\n",
            "Fitting estimator with 7 features.\n",
            "Fitting estimator with 6 features.\n"
          ]
        },
        {
          "output_type": "execute_result",
          "data": {
            "text/plain": [
              "RFE(estimator=DecisionTreeClassifier(max_depth=10), n_features_to_select=5,\n",
              "    verbose=1)"
            ]
          },
          "metadata": {},
          "execution_count": 34
        }
      ]
    },
    {
      "cell_type": "code",
      "metadata": {
        "colab": {
          "base_uri": "https://localhost:8080/",
          "height": 614
        },
        "id": "kaPGi1Iev_3I",
        "outputId": "897f5200-db1b-4f59-e585-0062623f84a3"
      },
      "source": [
        "features_rfe = pd.DataFrame({\"features\": list(x_features),\n",
        "                             \"rank\": rfe_selector.ranking_})\n",
        "features_rfe.sort_values(\"rank\", ascending=True)"
      ],
      "execution_count": null,
      "outputs": [
        {
          "output_type": "execute_result",
          "data": {
            "text/html": [
              "<div>\n",
              "<style scoped>\n",
              "    .dataframe tbody tr th:only-of-type {\n",
              "        vertical-align: middle;\n",
              "    }\n",
              "\n",
              "    .dataframe tbody tr th {\n",
              "        vertical-align: top;\n",
              "    }\n",
              "\n",
              "    .dataframe thead th {\n",
              "        text-align: right;\n",
              "    }\n",
              "</style>\n",
              "<table border=\"1\" class=\"dataframe\">\n",
              "  <thead>\n",
              "    <tr style=\"text-align: right;\">\n",
              "      <th></th>\n",
              "      <th>features</th>\n",
              "      <th>rank</th>\n",
              "    </tr>\n",
              "  </thead>\n",
              "  <tbody>\n",
              "    <tr>\n",
              "      <th>8</th>\n",
              "      <td>proc_fee</td>\n",
              "      <td>1</td>\n",
              "    </tr>\n",
              "    <tr>\n",
              "      <th>1</th>\n",
              "      <td>area_code</td>\n",
              "      <td>1</td>\n",
              "    </tr>\n",
              "    <tr>\n",
              "      <th>9</th>\n",
              "      <td>asset_cost</td>\n",
              "      <td>1</td>\n",
              "    </tr>\n",
              "    <tr>\n",
              "      <th>16</th>\n",
              "      <td>net_salary</td>\n",
              "      <td>1</td>\n",
              "    </tr>\n",
              "    <tr>\n",
              "      <th>7</th>\n",
              "      <td>emi</td>\n",
              "      <td>1</td>\n",
              "    </tr>\n",
              "    <tr>\n",
              "      <th>17</th>\n",
              "      <td>net_irr</td>\n",
              "      <td>2</td>\n",
              "    </tr>\n",
              "    <tr>\n",
              "      <th>15</th>\n",
              "      <td>age</td>\n",
              "      <td>3</td>\n",
              "    </tr>\n",
              "    <tr>\n",
              "      <th>10</th>\n",
              "      <td>loan_amt</td>\n",
              "      <td>4</td>\n",
              "    </tr>\n",
              "    <tr>\n",
              "      <th>6</th>\n",
              "      <td>roi</td>\n",
              "      <td>5</td>\n",
              "    </tr>\n",
              "    <tr>\n",
              "      <th>5</th>\n",
              "      <td>tenure</td>\n",
              "      <td>6</td>\n",
              "    </tr>\n",
              "    <tr>\n",
              "      <th>14</th>\n",
              "      <td>resid_type</td>\n",
              "      <td>7</td>\n",
              "    </tr>\n",
              "    <tr>\n",
              "      <th>13</th>\n",
              "      <td>employ_type</td>\n",
              "      <td>8</td>\n",
              "    </tr>\n",
              "    <tr>\n",
              "      <th>12</th>\n",
              "      <td>qualification</td>\n",
              "      <td>9</td>\n",
              "    </tr>\n",
              "    <tr>\n",
              "      <th>0</th>\n",
              "      <td>pay_type</td>\n",
              "      <td>10</td>\n",
              "    </tr>\n",
              "    <tr>\n",
              "      <th>2</th>\n",
              "      <td>state</td>\n",
              "      <td>11</td>\n",
              "    </tr>\n",
              "    <tr>\n",
              "      <th>11</th>\n",
              "      <td>gender</td>\n",
              "      <td>12</td>\n",
              "    </tr>\n",
              "    <tr>\n",
              "      <th>4</th>\n",
              "      <td>product_code</td>\n",
              "      <td>13</td>\n",
              "    </tr>\n",
              "    <tr>\n",
              "      <th>3</th>\n",
              "      <td>dealer</td>\n",
              "      <td>14</td>\n",
              "    </tr>\n",
              "  </tbody>\n",
              "</table>\n",
              "</div>"
            ],
            "text/plain": [
              "         features  rank\n",
              "8        proc_fee     1\n",
              "1       area_code     1\n",
              "9      asset_cost     1\n",
              "16     net_salary     1\n",
              "7             emi     1\n",
              "17        net_irr     2\n",
              "15            age     3\n",
              "10       loan_amt     4\n",
              "6             roi     5\n",
              "5          tenure     6\n",
              "14     resid_type     7\n",
              "13    employ_type     8\n",
              "12  qualification     9\n",
              "0        pay_type    10\n",
              "2           state    11\n",
              "11         gender    12\n",
              "4    product_code    13\n",
              "3          dealer    14"
            ]
          },
          "metadata": {},
          "execution_count": 35
        }
      ]
    },
    {
      "cell_type": "markdown",
      "metadata": {
        "id": "6OXhsyajx3FR"
      },
      "source": [
        "### Embedded Methods\n",
        "\n",
        "- The embedded methods use statistical criteria e.g. information gain as a filter to select featuresusing a machine learning algorithm and then select the subset of features with the highest significance or importance.\n",
        "\n",
        "- Embedded methods do not use iterations like RFE."
      ]
    },
    {
      "cell_type": "code",
      "metadata": {
        "colab": {
          "base_uri": "https://localhost:8080/"
        },
        "id": "rwEtA4u7wb_N",
        "outputId": "de8e319d-4f2d-4a15-fde4-b53c3d276dce"
      },
      "source": [
        "from sklearn.ensemble import RandomForestRegressor\n",
        "\n",
        "rf_reg = RandomForestRegressor(n_estimators=100, max_depth = 5, max_features = 0.4)\n",
        "rf_reg.fit(X_train, y_train)"
      ],
      "execution_count": null,
      "outputs": [
        {
          "output_type": "execute_result",
          "data": {
            "text/plain": [
              "RandomForestRegressor(max_depth=5, max_features=0.4)"
            ]
          },
          "metadata": {},
          "execution_count": 36
        }
      ]
    },
    {
      "cell_type": "code",
      "metadata": {
        "colab": {
          "base_uri": "https://localhost:8080/",
          "height": 614
        },
        "id": "NfewUXc_yDDH",
        "outputId": "918cfb3a-dca2-4e81-b6f4-2986a0e942b4"
      },
      "source": [
        "features_rf_imp = pd.DataFrame({\"features\": list(x_features),\n",
        "                                \"importance\": rf_reg.feature_importances_})\n",
        "features_rf_imp = features_rf_imp.sort_values(\"importance\", ascending=False).reset_index()\n",
        "features_rf_imp"
      ],
      "execution_count": null,
      "outputs": [
        {
          "output_type": "execute_result",
          "data": {
            "text/html": [
              "<div>\n",
              "<style scoped>\n",
              "    .dataframe tbody tr th:only-of-type {\n",
              "        vertical-align: middle;\n",
              "    }\n",
              "\n",
              "    .dataframe tbody tr th {\n",
              "        vertical-align: top;\n",
              "    }\n",
              "\n",
              "    .dataframe thead th {\n",
              "        text-align: right;\n",
              "    }\n",
              "</style>\n",
              "<table border=\"1\" class=\"dataframe\">\n",
              "  <thead>\n",
              "    <tr style=\"text-align: right;\">\n",
              "      <th></th>\n",
              "      <th>index</th>\n",
              "      <th>features</th>\n",
              "      <th>importance</th>\n",
              "    </tr>\n",
              "  </thead>\n",
              "  <tbody>\n",
              "    <tr>\n",
              "      <th>0</th>\n",
              "      <td>1</td>\n",
              "      <td>area_code</td>\n",
              "      <td>0.376026</td>\n",
              "    </tr>\n",
              "    <tr>\n",
              "      <th>1</th>\n",
              "      <td>2</td>\n",
              "      <td>state</td>\n",
              "      <td>0.150598</td>\n",
              "    </tr>\n",
              "    <tr>\n",
              "      <th>2</th>\n",
              "      <td>14</td>\n",
              "      <td>resid_type</td>\n",
              "      <td>0.061920</td>\n",
              "    </tr>\n",
              "    <tr>\n",
              "      <th>3</th>\n",
              "      <td>17</td>\n",
              "      <td>net_irr</td>\n",
              "      <td>0.049850</td>\n",
              "    </tr>\n",
              "    <tr>\n",
              "      <th>4</th>\n",
              "      <td>8</td>\n",
              "      <td>proc_fee</td>\n",
              "      <td>0.045615</td>\n",
              "    </tr>\n",
              "    <tr>\n",
              "      <th>5</th>\n",
              "      <td>9</td>\n",
              "      <td>asset_cost</td>\n",
              "      <td>0.044347</td>\n",
              "    </tr>\n",
              "    <tr>\n",
              "      <th>6</th>\n",
              "      <td>10</td>\n",
              "      <td>loan_amt</td>\n",
              "      <td>0.044205</td>\n",
              "    </tr>\n",
              "    <tr>\n",
              "      <th>7</th>\n",
              "      <td>7</td>\n",
              "      <td>emi</td>\n",
              "      <td>0.040573</td>\n",
              "    </tr>\n",
              "    <tr>\n",
              "      <th>8</th>\n",
              "      <td>16</td>\n",
              "      <td>net_salary</td>\n",
              "      <td>0.037381</td>\n",
              "    </tr>\n",
              "    <tr>\n",
              "      <th>9</th>\n",
              "      <td>6</td>\n",
              "      <td>roi</td>\n",
              "      <td>0.033743</td>\n",
              "    </tr>\n",
              "    <tr>\n",
              "      <th>10</th>\n",
              "      <td>5</td>\n",
              "      <td>tenure</td>\n",
              "      <td>0.033654</td>\n",
              "    </tr>\n",
              "    <tr>\n",
              "      <th>11</th>\n",
              "      <td>15</td>\n",
              "      <td>age</td>\n",
              "      <td>0.032180</td>\n",
              "    </tr>\n",
              "    <tr>\n",
              "      <th>12</th>\n",
              "      <td>13</td>\n",
              "      <td>employ_type</td>\n",
              "      <td>0.016560</td>\n",
              "    </tr>\n",
              "    <tr>\n",
              "      <th>13</th>\n",
              "      <td>3</td>\n",
              "      <td>dealer</td>\n",
              "      <td>0.010869</td>\n",
              "    </tr>\n",
              "    <tr>\n",
              "      <th>14</th>\n",
              "      <td>4</td>\n",
              "      <td>product_code</td>\n",
              "      <td>0.007651</td>\n",
              "    </tr>\n",
              "    <tr>\n",
              "      <th>15</th>\n",
              "      <td>12</td>\n",
              "      <td>qualification</td>\n",
              "      <td>0.007222</td>\n",
              "    </tr>\n",
              "    <tr>\n",
              "      <th>16</th>\n",
              "      <td>11</td>\n",
              "      <td>gender</td>\n",
              "      <td>0.004936</td>\n",
              "    </tr>\n",
              "    <tr>\n",
              "      <th>17</th>\n",
              "      <td>0</td>\n",
              "      <td>pay_type</td>\n",
              "      <td>0.002670</td>\n",
              "    </tr>\n",
              "  </tbody>\n",
              "</table>\n",
              "</div>"
            ],
            "text/plain": [
              "    index       features  importance\n",
              "0       1      area_code    0.376026\n",
              "1       2          state    0.150598\n",
              "2      14     resid_type    0.061920\n",
              "3      17        net_irr    0.049850\n",
              "4       8       proc_fee    0.045615\n",
              "5       9     asset_cost    0.044347\n",
              "6      10       loan_amt    0.044205\n",
              "7       7            emi    0.040573\n",
              "8      16     net_salary    0.037381\n",
              "9       6            roi    0.033743\n",
              "10      5         tenure    0.033654\n",
              "11     15            age    0.032180\n",
              "12     13    employ_type    0.016560\n",
              "13      3         dealer    0.010869\n",
              "14      4   product_code    0.007651\n",
              "15     12  qualification    0.007222\n",
              "16     11         gender    0.004936\n",
              "17      0       pay_type    0.002670"
            ]
          },
          "metadata": {},
          "execution_count": 37
        }
      ]
    },
    {
      "cell_type": "code",
      "metadata": {
        "colab": {
          "base_uri": "https://localhost:8080/",
          "height": 614
        },
        "id": "txc2WxlDyGHW",
        "outputId": "16fbb491-a542-436d-ae01-930365196b74"
      },
      "source": [
        "features_rf_imp['cumsum'] = features_rf_imp.importance.cumsum()\n",
        "features_rf_imp"
      ],
      "execution_count": null,
      "outputs": [
        {
          "output_type": "execute_result",
          "data": {
            "text/html": [
              "<div>\n",
              "<style scoped>\n",
              "    .dataframe tbody tr th:only-of-type {\n",
              "        vertical-align: middle;\n",
              "    }\n",
              "\n",
              "    .dataframe tbody tr th {\n",
              "        vertical-align: top;\n",
              "    }\n",
              "\n",
              "    .dataframe thead th {\n",
              "        text-align: right;\n",
              "    }\n",
              "</style>\n",
              "<table border=\"1\" class=\"dataframe\">\n",
              "  <thead>\n",
              "    <tr style=\"text-align: right;\">\n",
              "      <th></th>\n",
              "      <th>index</th>\n",
              "      <th>features</th>\n",
              "      <th>importance</th>\n",
              "      <th>cumsum</th>\n",
              "    </tr>\n",
              "  </thead>\n",
              "  <tbody>\n",
              "    <tr>\n",
              "      <th>0</th>\n",
              "      <td>1</td>\n",
              "      <td>area_code</td>\n",
              "      <td>0.376026</td>\n",
              "      <td>0.376026</td>\n",
              "    </tr>\n",
              "    <tr>\n",
              "      <th>1</th>\n",
              "      <td>2</td>\n",
              "      <td>state</td>\n",
              "      <td>0.150598</td>\n",
              "      <td>0.526624</td>\n",
              "    </tr>\n",
              "    <tr>\n",
              "      <th>2</th>\n",
              "      <td>14</td>\n",
              "      <td>resid_type</td>\n",
              "      <td>0.061920</td>\n",
              "      <td>0.588544</td>\n",
              "    </tr>\n",
              "    <tr>\n",
              "      <th>3</th>\n",
              "      <td>17</td>\n",
              "      <td>net_irr</td>\n",
              "      <td>0.049850</td>\n",
              "      <td>0.638394</td>\n",
              "    </tr>\n",
              "    <tr>\n",
              "      <th>4</th>\n",
              "      <td>8</td>\n",
              "      <td>proc_fee</td>\n",
              "      <td>0.045615</td>\n",
              "      <td>0.684009</td>\n",
              "    </tr>\n",
              "    <tr>\n",
              "      <th>5</th>\n",
              "      <td>9</td>\n",
              "      <td>asset_cost</td>\n",
              "      <td>0.044347</td>\n",
              "      <td>0.728356</td>\n",
              "    </tr>\n",
              "    <tr>\n",
              "      <th>6</th>\n",
              "      <td>10</td>\n",
              "      <td>loan_amt</td>\n",
              "      <td>0.044205</td>\n",
              "      <td>0.772561</td>\n",
              "    </tr>\n",
              "    <tr>\n",
              "      <th>7</th>\n",
              "      <td>7</td>\n",
              "      <td>emi</td>\n",
              "      <td>0.040573</td>\n",
              "      <td>0.813134</td>\n",
              "    </tr>\n",
              "    <tr>\n",
              "      <th>8</th>\n",
              "      <td>16</td>\n",
              "      <td>net_salary</td>\n",
              "      <td>0.037381</td>\n",
              "      <td>0.850515</td>\n",
              "    </tr>\n",
              "    <tr>\n",
              "      <th>9</th>\n",
              "      <td>6</td>\n",
              "      <td>roi</td>\n",
              "      <td>0.033743</td>\n",
              "      <td>0.884258</td>\n",
              "    </tr>\n",
              "    <tr>\n",
              "      <th>10</th>\n",
              "      <td>5</td>\n",
              "      <td>tenure</td>\n",
              "      <td>0.033654</td>\n",
              "      <td>0.917911</td>\n",
              "    </tr>\n",
              "    <tr>\n",
              "      <th>11</th>\n",
              "      <td>15</td>\n",
              "      <td>age</td>\n",
              "      <td>0.032180</td>\n",
              "      <td>0.950091</td>\n",
              "    </tr>\n",
              "    <tr>\n",
              "      <th>12</th>\n",
              "      <td>13</td>\n",
              "      <td>employ_type</td>\n",
              "      <td>0.016560</td>\n",
              "      <td>0.966652</td>\n",
              "    </tr>\n",
              "    <tr>\n",
              "      <th>13</th>\n",
              "      <td>3</td>\n",
              "      <td>dealer</td>\n",
              "      <td>0.010869</td>\n",
              "      <td>0.977521</td>\n",
              "    </tr>\n",
              "    <tr>\n",
              "      <th>14</th>\n",
              "      <td>4</td>\n",
              "      <td>product_code</td>\n",
              "      <td>0.007651</td>\n",
              "      <td>0.985171</td>\n",
              "    </tr>\n",
              "    <tr>\n",
              "      <th>15</th>\n",
              "      <td>12</td>\n",
              "      <td>qualification</td>\n",
              "      <td>0.007222</td>\n",
              "      <td>0.992394</td>\n",
              "    </tr>\n",
              "    <tr>\n",
              "      <th>16</th>\n",
              "      <td>11</td>\n",
              "      <td>gender</td>\n",
              "      <td>0.004936</td>\n",
              "      <td>0.997330</td>\n",
              "    </tr>\n",
              "    <tr>\n",
              "      <th>17</th>\n",
              "      <td>0</td>\n",
              "      <td>pay_type</td>\n",
              "      <td>0.002670</td>\n",
              "      <td>1.000000</td>\n",
              "    </tr>\n",
              "  </tbody>\n",
              "</table>\n",
              "</div>"
            ],
            "text/plain": [
              "    index       features  importance    cumsum\n",
              "0       1      area_code    0.376026  0.376026\n",
              "1       2          state    0.150598  0.526624\n",
              "2      14     resid_type    0.061920  0.588544\n",
              "3      17        net_irr    0.049850  0.638394\n",
              "4       8       proc_fee    0.045615  0.684009\n",
              "5       9     asset_cost    0.044347  0.728356\n",
              "6      10       loan_amt    0.044205  0.772561\n",
              "7       7            emi    0.040573  0.813134\n",
              "8      16     net_salary    0.037381  0.850515\n",
              "9       6            roi    0.033743  0.884258\n",
              "10      5         tenure    0.033654  0.917911\n",
              "11     15            age    0.032180  0.950091\n",
              "12     13    employ_type    0.016560  0.966652\n",
              "13      3         dealer    0.010869  0.977521\n",
              "14      4   product_code    0.007651  0.985171\n",
              "15     12  qualification    0.007222  0.992394\n",
              "16     11         gender    0.004936  0.997330\n",
              "17      0       pay_type    0.002670  1.000000"
            ]
          },
          "metadata": {},
          "execution_count": 38
        }
      ]
    },
    {
      "cell_type": "code",
      "metadata": {
        "colab": {
          "base_uri": "https://localhost:8080/"
        },
        "id": "I5HaKp1yzVWt",
        "outputId": "2188f029-a51b-40b9-c787-178d2abb63d1"
      },
      "source": [
        "features_rf_imp[\"features\"].head(12).values"
      ],
      "execution_count": null,
      "outputs": [
        {
          "output_type": "execute_result",
          "data": {
            "text/plain": [
              "array(['area_code', 'state', 'resid_type', 'net_irr', 'proc_fee',\n",
              "       'asset_cost', 'loan_amt', 'emi', 'net_salary', 'roi', 'tenure',\n",
              "       'age'], dtype=object)"
            ]
          },
          "metadata": {},
          "execution_count": 41
        }
      ]
    },
    {
      "cell_type": "code",
      "metadata": {
        "id": "GrjJN88n1Oyg"
      },
      "source": [
        ""
      ],
      "execution_count": null,
      "outputs": []
    }
  ]
}
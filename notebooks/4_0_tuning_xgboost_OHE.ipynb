{
  "nbformat": 4,
  "nbformat_minor": 0,
  "metadata": {
    "colab": {
      "name": "4.0-tuning-xgboost-OHE.ipynb",
      "provenance": [],
      "collapsed_sections": []
    },
    "kernelspec": {
      "name": "python3",
      "display_name": "Python 3"
    },
    "language_info": {
      "name": "python"
    }
  },
  "cells": [
    {
      "cell_type": "code",
      "metadata": {
        "id": "Rg8298jpaFFO"
      },
      "source": [
        "import pandas as pd\n",
        "import numpy as np\n",
        "import matplotlib.pyplot as plt\n",
        "import seaborn as sn\n",
        "from sklearn.model_selection import train_test_split\n",
        "from sklearn.preprocessing import OneHotEncoder\n",
        "from sklearn.compose import ColumnTransformer\n",
        "from sklearn.pipeline import Pipeline\n",
        "\n",
        "from sklearn.model_selection import GridSearchCV"
      ],
      "execution_count": 1,
      "outputs": []
    },
    {
      "cell_type": "code",
      "metadata": {
        "id": "ICzM61jubG7f"
      },
      "source": [
        "from xgboost import XGBClassifier\n"
      ],
      "execution_count": 19,
      "outputs": []
    },
    {
      "cell_type": "markdown",
      "metadata": {
        "id": "9NE_PNp7bUtl"
      },
      "source": [
        "# Loading Data"
      ]
    },
    {
      "cell_type": "code",
      "metadata": {
        "id": "9MqYNYs10DvH"
      },
      "source": [
        "df = pd.read_csv('https://raw.githubusercontent.com/rajap20/streamlit-example/master/data_final.csv')"
      ],
      "execution_count": 2,
      "outputs": []
    },
    {
      "cell_type": "code",
      "metadata": {
        "colab": {
          "base_uri": "https://localhost:8080/",
          "height": 296
        },
        "id": "69a5032a",
        "outputId": "d89422fa-8188-4d98-e636-181cb3bada1d"
      },
      "source": [
        "df.head(5)"
      ],
      "execution_count": 3,
      "outputs": [
        {
          "output_type": "execute_result",
          "data": {
            "text/html": [
              "<div>\n",
              "<style scoped>\n",
              "    .dataframe tbody tr th:only-of-type {\n",
              "        vertical-align: middle;\n",
              "    }\n",
              "\n",
              "    .dataframe tbody tr th {\n",
              "        vertical-align: top;\n",
              "    }\n",
              "\n",
              "    .dataframe thead th {\n",
              "        text-align: right;\n",
              "    }\n",
              "</style>\n",
              "<table border=\"1\" class=\"dataframe\">\n",
              "  <thead>\n",
              "    <tr style=\"text-align: right;\">\n",
              "      <th></th>\n",
              "      <th>Customer_id</th>\n",
              "      <th>Date_disb</th>\n",
              "      <th>pay_type</th>\n",
              "      <th>area_code</th>\n",
              "      <th>pin_code</th>\n",
              "      <th>state</th>\n",
              "      <th>dealer</th>\n",
              "      <th>product_code</th>\n",
              "      <th>tenure</th>\n",
              "      <th>roi</th>\n",
              "      <th>emi</th>\n",
              "      <th>proc_fee</th>\n",
              "      <th>asset_cost</th>\n",
              "      <th>loan_amt</th>\n",
              "      <th>gender</th>\n",
              "      <th>qualification</th>\n",
              "      <th>employ_type</th>\n",
              "      <th>resid_type</th>\n",
              "      <th>age</th>\n",
              "      <th>cibil_score</th>\n",
              "      <th>net_salary</th>\n",
              "      <th>net_irr</th>\n",
              "      <th>fraud</th>\n",
              "    </tr>\n",
              "  </thead>\n",
              "  <tbody>\n",
              "    <tr>\n",
              "      <th>0</th>\n",
              "      <td>0</td>\n",
              "      <td>2/13/2020</td>\n",
              "      <td>ACH</td>\n",
              "      <td>3075</td>\n",
              "      <td>530041</td>\n",
              "      <td>AP</td>\n",
              "      <td>DEALER</td>\n",
              "      <td>SC</td>\n",
              "      <td>0.470588</td>\n",
              "      <td>-0.793282</td>\n",
              "      <td>0.124252</td>\n",
              "      <td>-0.093758</td>\n",
              "      <td>87000</td>\n",
              "      <td>71000</td>\n",
              "      <td>M</td>\n",
              "      <td>OTHERS</td>\n",
              "      <td>SAL</td>\n",
              "      <td>O</td>\n",
              "      <td>0.306122</td>\n",
              "      <td>-0.906781</td>\n",
              "      <td>0.158169</td>\n",
              "      <td>-1.321153</td>\n",
              "      <td>0</td>\n",
              "    </tr>\n",
              "    <tr>\n",
              "      <th>1</th>\n",
              "      <td>1</td>\n",
              "      <td>06-02-2020</td>\n",
              "      <td>ADM</td>\n",
              "      <td>3075</td>\n",
              "      <td>532123</td>\n",
              "      <td>AP</td>\n",
              "      <td>DEALER</td>\n",
              "      <td>SC</td>\n",
              "      <td>0.352941</td>\n",
              "      <td>-0.952045</td>\n",
              "      <td>0.083863</td>\n",
              "      <td>-0.572295</td>\n",
              "      <td>61500</td>\n",
              "      <td>51000</td>\n",
              "      <td>F</td>\n",
              "      <td>PG</td>\n",
              "      <td>SAL</td>\n",
              "      <td>O</td>\n",
              "      <td>0.551020</td>\n",
              "      <td>0.163204</td>\n",
              "      <td>1.161336</td>\n",
              "      <td>-1.308269</td>\n",
              "      <td>0</td>\n",
              "    </tr>\n",
              "    <tr>\n",
              "      <th>2</th>\n",
              "      <td>2</td>\n",
              "      <td>10-02-2020</td>\n",
              "      <td>ADM</td>\n",
              "      <td>3075</td>\n",
              "      <td>533218</td>\n",
              "      <td>AP</td>\n",
              "      <td>ASC</td>\n",
              "      <td>SC</td>\n",
              "      <td>0.352941</td>\n",
              "      <td>0.318061</td>\n",
              "      <td>0.210079</td>\n",
              "      <td>0.913555</td>\n",
              "      <td>87000</td>\n",
              "      <td>74038</td>\n",
              "      <td>M</td>\n",
              "      <td>SSC</td>\n",
              "      <td>SEP</td>\n",
              "      <td>O</td>\n",
              "      <td>0.530612</td>\n",
              "      <td>NaN</td>\n",
              "      <td>0.910545</td>\n",
              "      <td>0.605033</td>\n",
              "      <td>0</td>\n",
              "    </tr>\n",
              "    <tr>\n",
              "      <th>3</th>\n",
              "      <td>3</td>\n",
              "      <td>10-02-2020</td>\n",
              "      <td>ADM</td>\n",
              "      <td>3075</td>\n",
              "      <td>532484</td>\n",
              "      <td>AP</td>\n",
              "      <td>DEALER</td>\n",
              "      <td>SC</td>\n",
              "      <td>0.352941</td>\n",
              "      <td>-1.309262</td>\n",
              "      <td>0.166511</td>\n",
              "      <td>0.649593</td>\n",
              "      <td>84000</td>\n",
              "      <td>69720</td>\n",
              "      <td>M</td>\n",
              "      <td>OTHERS</td>\n",
              "      <td>AGR</td>\n",
              "      <td>O</td>\n",
              "      <td>0.224490</td>\n",
              "      <td>-0.167982</td>\n",
              "      <td>-0.544048</td>\n",
              "      <td>-1.098901</td>\n",
              "      <td>0</td>\n",
              "    </tr>\n",
              "    <tr>\n",
              "      <th>4</th>\n",
              "      <td>4</td>\n",
              "      <td>10-02-2020</td>\n",
              "      <td>ADM</td>\n",
              "      <td>3075</td>\n",
              "      <td>530046</td>\n",
              "      <td>AP</td>\n",
              "      <td>DEALER</td>\n",
              "      <td>SC</td>\n",
              "      <td>0.352941</td>\n",
              "      <td>-0.713900</td>\n",
              "      <td>0.092091</td>\n",
              "      <td>-0.572295</td>\n",
              "      <td>61500</td>\n",
              "      <td>52220</td>\n",
              "      <td>F</td>\n",
              "      <td>HSC</td>\n",
              "      <td>SAL</td>\n",
              "      <td>O</td>\n",
              "      <td>0.224490</td>\n",
              "      <td>NaN</td>\n",
              "      <td>-0.343415</td>\n",
              "      <td>-0.986164</td>\n",
              "      <td>0</td>\n",
              "    </tr>\n",
              "  </tbody>\n",
              "</table>\n",
              "</div>"
            ],
            "text/plain": [
              "   Customer_id   Date_disb pay_type  ...  net_salary   net_irr fraud\n",
              "0            0   2/13/2020      ACH  ...    0.158169 -1.321153     0\n",
              "1            1  06-02-2020      ADM  ...    1.161336 -1.308269     0\n",
              "2            2  10-02-2020      ADM  ...    0.910545  0.605033     0\n",
              "3            3  10-02-2020      ADM  ...   -0.544048 -1.098901     0\n",
              "4            4  10-02-2020      ADM  ...   -0.343415 -0.986164     0\n",
              "\n",
              "[5 rows x 23 columns]"
            ]
          },
          "metadata": {},
          "execution_count": 3
        }
      ]
    },
    {
      "cell_type": "markdown",
      "metadata": {
        "id": "4fd1dd27"
      },
      "source": [
        "# Feature Set Selection\n",
        "\n",
        "\n"
      ]
    },
    {
      "cell_type": "code",
      "metadata": {
        "colab": {
          "base_uri": "https://localhost:8080/"
        },
        "id": "9e432486",
        "outputId": "6abfdc55-5e64-41dc-e98d-3bcb12d1e86b"
      },
      "source": [
        "df.columns"
      ],
      "execution_count": 4,
      "outputs": [
        {
          "output_type": "execute_result",
          "data": {
            "text/plain": [
              "Index(['Customer_id', 'Date_disb', 'pay_type', 'area_code', 'pin_code',\n",
              "       'state', 'dealer', 'product_code', 'tenure', 'roi', 'emi', 'proc_fee',\n",
              "       'asset_cost', 'loan_amt', 'gender', 'qualification', 'employ_type',\n",
              "       'resid_type', 'age', 'cibil_score', 'net_salary', 'net_irr', 'fraud'],\n",
              "      dtype='object')"
            ]
          },
          "metadata": {},
          "execution_count": 4
        }
      ]
    },
    {
      "cell_type": "code",
      "metadata": {
        "id": "XKx5YZl32B4w"
      },
      "source": [
        "x_features = [\n",
        "              'area_code', \n",
        "              'state', 'resid_type', 'net_irr', 'proc_fee',\n",
        "       'asset_cost', 'loan_amt', 'emi', 'net_salary', 'roi', 'tenure',\n",
        "       'age']"
      ],
      "execution_count": 5,
      "outputs": []
    },
    {
      "cell_type": "code",
      "metadata": {
        "id": "l7BO3l_z2tn6"
      },
      "source": [
        "cat_features = [\n",
        "                'area_code', \n",
        "                'state', 'resid_type']"
      ],
      "execution_count": 6,
      "outputs": []
    },
    {
      "cell_type": "code",
      "metadata": {
        "colab": {
          "base_uri": "https://localhost:8080/"
        },
        "id": "OXFiY7En3O6q",
        "outputId": "42a36db7-d460-4b57-8417-d5223db99813"
      },
      "source": [
        "num_features = list(set(x_features) - set(cat_features))\n",
        "num_features"
      ],
      "execution_count": 7,
      "outputs": [
        {
          "output_type": "execute_result",
          "data": {
            "text/plain": [
              "['asset_cost',\n",
              " 'net_salary',\n",
              " 'loan_amt',\n",
              " 'age',\n",
              " 'net_irr',\n",
              " 'emi',\n",
              " 'roi',\n",
              " 'proc_fee',\n",
              " 'tenure']"
            ]
          },
          "metadata": {},
          "execution_count": 7
        }
      ]
    },
    {
      "cell_type": "code",
      "metadata": {
        "colab": {
          "base_uri": "https://localhost:8080/"
        },
        "id": "DVbOVlHs3VS5",
        "outputId": "21867203-e714-4973-c516-64b637b6e424"
      },
      "source": [
        "df[cat_features] = df[cat_features].astype(object)\n",
        "df[x_features].info()"
      ],
      "execution_count": 8,
      "outputs": [
        {
          "output_type": "stream",
          "name": "stdout",
          "text": [
            "<class 'pandas.core.frame.DataFrame'>\n",
            "RangeIndex: 11702 entries, 0 to 11701\n",
            "Data columns (total 12 columns):\n",
            " #   Column      Non-Null Count  Dtype  \n",
            "---  ------      --------------  -----  \n",
            " 0   area_code   11702 non-null  object \n",
            " 1   state       11702 non-null  object \n",
            " 2   resid_type  11698 non-null  object \n",
            " 3   net_irr     11702 non-null  float64\n",
            " 4   proc_fee    11702 non-null  float64\n",
            " 5   asset_cost  11702 non-null  int64  \n",
            " 6   loan_amt    11702 non-null  int64  \n",
            " 7   emi         11702 non-null  float64\n",
            " 8   net_salary  11702 non-null  float64\n",
            " 9   roi         11702 non-null  float64\n",
            " 10  tenure      11702 non-null  float64\n",
            " 11  age         11698 non-null  float64\n",
            "dtypes: float64(7), int64(2), object(3)\n",
            "memory usage: 1.1+ MB\n"
          ]
        }
      ]
    },
    {
      "cell_type": "code",
      "metadata": {
        "colab": {
          "base_uri": "https://localhost:8080/"
        },
        "id": "cyVsF5Mp3cx4",
        "outputId": "3530241b-d6a5-4fed-af32-011481b26f65"
      },
      "source": [
        "df = df[x_features + ['fraud']].dropna()\n",
        "df.shape"
      ],
      "execution_count": 9,
      "outputs": [
        {
          "output_type": "execute_result",
          "data": {
            "text/plain": [
              "(11698, 13)"
            ]
          },
          "metadata": {},
          "execution_count": 9
        }
      ]
    },
    {
      "cell_type": "code",
      "metadata": {
        "id": "VteiHwLt3dCA"
      },
      "source": [
        "X = df[x_features]\n",
        "y = df['fraud']"
      ],
      "execution_count": 10,
      "outputs": []
    },
    {
      "cell_type": "code",
      "metadata": {
        "id": "Z5Jb8iQX3mNI"
      },
      "source": [
        "X_train, X_test, y_train, y_test = train_test_split(X,\n",
        "                                                    y,\n",
        "                                                    train_size = 0.8,\n",
        "                                                    random_state = 80)"
      ],
      "execution_count": 20,
      "outputs": []
    },
    {
      "cell_type": "code",
      "metadata": {
        "id": "ITDW84LQePdG"
      },
      "source": [
        ""
      ],
      "execution_count": null,
      "outputs": []
    },
    {
      "cell_type": "markdown",
      "metadata": {
        "id": "GY_m_7S7eOBH"
      },
      "source": [
        "# Pipeline for GridSearch"
      ]
    },
    {
      "cell_type": "code",
      "metadata": {
        "id": "h0EsKaBge8-u"
      },
      "source": [
        "ohe_encoder = OneHotEncoder(handle_unknown='ignore')"
      ],
      "execution_count": 15,
      "outputs": []
    },
    {
      "cell_type": "code",
      "metadata": {
        "id": "JXWQb8G_bvXq"
      },
      "source": [
        "preprocessor = ColumnTransformer(\n",
        "    transformers=[\n",
        "        ('cat', ohe_encoder, cat_features)])"
      ],
      "execution_count": 31,
      "outputs": []
    },
    {
      "cell_type": "code",
      "metadata": {
        "id": "Mq8rBwSlziYM"
      },
      "source": [
        "params = { \n",
        "          \"n_estimators\": 301,\n",
        "          \"learning_rate\": 0.1 ,\n",
        "          \"max_depth\": 20,\n",
        "          \"min_child_weight\": 7,\n",
        "          \"gamma\": 0.1,\n",
        "          \"colsample_bytree\" : 0.7\n",
        "          }\n"
      ],
      "execution_count": 70,
      "outputs": []
    },
    {
      "cell_type": "code",
      "metadata": {
        "id": "4oMGFvs0wSKv"
      },
      "source": [
        "xgb = XGBClassifier(**params)"
      ],
      "execution_count": 71,
      "outputs": []
    },
    {
      "cell_type": "code",
      "metadata": {
        "id": "5j4S_qZ7fJ3s"
      },
      "source": [
        "xgb_v1 = Pipeline(steps=[('preprocessor', preprocessor),\n",
        "                          ('xgb', xgb)])"
      ],
      "execution_count": 72,
      "outputs": []
    },
    {
      "cell_type": "code",
      "metadata": {
        "colab": {
          "base_uri": "https://localhost:8080/"
        },
        "id": "jBP9ltrvw-w_",
        "outputId": "ef69ea3f-d488-4912-94fd-9dd42c4cec1e"
      },
      "source": [
        "xgb_v1.fit(X_train, y_train)"
      ],
      "execution_count": 73,
      "outputs": [
        {
          "output_type": "execute_result",
          "data": {
            "text/plain": [
              "Pipeline(steps=[('preprocessor',\n",
              "                 ColumnTransformer(transformers=[('cat',\n",
              "                                                  OneHotEncoder(handle_unknown='ignore'),\n",
              "                                                  ['area_code', 'state',\n",
              "                                                   'resid_type'])])),\n",
              "                ('xgb',\n",
              "                 XGBClassifier(colsample_bytree=0.7, gamma=0.1, max_depth=20,\n",
              "                               min_child_weight=7, n_estimators=301))])"
            ]
          },
          "metadata": {},
          "execution_count": 73
        }
      ]
    },
    {
      "cell_type": "code",
      "metadata": {
        "colab": {
          "base_uri": "https://localhost:8080/"
        },
        "id": "VNfusMu9zKQ3",
        "outputId": "d4157284-3767-4ff7-c666-6a22c8b78fe8"
      },
      "source": [
        "temp1 = pd.DataFrame({\n",
        "                    \"y_test\":y_test,\n",
        "                      \"y_prob\":xgb_v1.predict_proba(X_test)[:,1]\n",
        "                    })\n",
        "\n",
        "sum(temp1.y_prob.map(lambda x: 1 if x > 0.25 else 0))"
      ],
      "execution_count": 74,
      "outputs": [
        {
          "output_type": "execute_result",
          "data": {
            "text/plain": [
              "96"
            ]
          },
          "metadata": {},
          "execution_count": 74
        }
      ]
    },
    {
      "cell_type": "code",
      "metadata": {
        "id": "rmjyAYcUveDw"
      },
      "source": [
        "params = { 'xgb__max_depth': [15, 20, 25]\n",
        "          ,'xgb__learning_rate': [0.01, 0.05, 0.1],\n",
        "           'xgb__n_estimators': [100, 300, 500]\n",
        "          ,'xgb__colsample_bytree': [0.3, 0.7]\n",
        "          }"
      ],
      "execution_count": 94,
      "outputs": []
    },
    {
      "cell_type": "code",
      "metadata": {
        "id": "QOFzhgjhve5Q"
      },
      "source": [
        "grid_v1 = GridSearchCV(xgb_v1,\n",
        "                           param_grid= params,\n",
        "                           cv = 5,\n",
        "                           scoring = 'accuracy')"
      ],
      "execution_count": 101,
      "outputs": []
    },
    {
      "cell_type": "code",
      "metadata": {
        "colab": {
          "base_uri": "https://localhost:8080/"
        },
        "id": "_u8r0GKvyJVl",
        "outputId": "3d68a6d4-54ac-4ee5-f826-17c537d87182"
      },
      "source": [
        "grid_v1.fit(X_train, y_train)"
      ],
      "execution_count": 102,
      "outputs": [
        {
          "output_type": "execute_result",
          "data": {
            "text/plain": [
              "GridSearchCV(cv=5,\n",
              "             estimator=Pipeline(steps=[('preprocessor',\n",
              "                                        ColumnTransformer(transformers=[('cat',\n",
              "                                                                         OneHotEncoder(handle_unknown='ignore'),\n",
              "                                                                         ['area_code',\n",
              "                                                                          'state',\n",
              "                                                                          'resid_type'])])),\n",
              "                                       ('xgb',\n",
              "                                        XGBClassifier(colsample_bytree=0.7,\n",
              "                                                      gamma=0.1, max_depth=20,\n",
              "                                                      min_child_weight=7,\n",
              "                                                      n_estimators=301))]),\n",
              "             param_grid={'xgb__colsample_bytree': [0.3, 0.7],\n",
              "                         'xgb__learning_rate': [0.01, 0.05, 0.1],\n",
              "                         'xgb__max_depth': [15, 20, 25],\n",
              "                         'xgb__n_estimators': [100, 300, 500]},\n",
              "             scoring='accuracy')"
            ]
          },
          "metadata": {},
          "execution_count": 102
        }
      ]
    },
    {
      "cell_type": "code",
      "metadata": {
        "colab": {
          "base_uri": "https://localhost:8080/"
        },
        "id": "s1XEdYrIw22R",
        "outputId": "36856aca-2f35-42d3-cb64-b3b8e9bbb481"
      },
      "source": [
        "grid_v1.best_params_"
      ],
      "execution_count": 103,
      "outputs": [
        {
          "output_type": "execute_result",
          "data": {
            "text/plain": [
              "{'xgb__colsample_bytree': 0.3,\n",
              " 'xgb__learning_rate': 0.01,\n",
              " 'xgb__max_depth': 15,\n",
              " 'xgb__n_estimators': 100}"
            ]
          },
          "metadata": {},
          "execution_count": 103
        }
      ]
    },
    {
      "cell_type": "code",
      "metadata": {
        "colab": {
          "base_uri": "https://localhost:8080/"
        },
        "id": "--9cpdJTw22R",
        "outputId": "d547e976-eb02-4dd7-dd8d-b64f3128ad27"
      },
      "source": [
        "grid_v1.best_score_"
      ],
      "execution_count": 104,
      "outputs": [
        {
          "output_type": "execute_result",
          "data": {
            "text/plain": [
              "0.9262662911647412"
            ]
          },
          "metadata": {},
          "execution_count": 104
        }
      ]
    },
    {
      "cell_type": "code",
      "metadata": {
        "id": "2FHNcJwRw22R"
      },
      "source": [
        "grid_results = pd.DataFrame(grid_v1.cv_results_ )\n",
        "#grid_results[['param_xgb__colsample_bytree', 'param_xgb__learning_rate', 'param_xgb__max_depth','param_xgb__n_estimators','mean_test_score', 'std_test_score']]"
      ],
      "execution_count": 108,
      "outputs": []
    },
    {
      "cell_type": "code",
      "metadata": {
        "id": "vF9DZuA1-iIA"
      },
      "source": [
        ""
      ],
      "execution_count": null,
      "outputs": []
    },
    {
      "cell_type": "markdown",
      "metadata": {
        "id": "WkiARh-C0vq1"
      },
      "source": [
        "### Finding the model using **One Standard Error Rule**"
      ]
    },
    {
      "cell_type": "code",
      "metadata": {
        "id": "XpUc52A7yJxC"
      },
      "source": [
        "highest_score_std = grid_results[grid_results.rank_test_score == 1].iloc[0]['std_test_score']\n",
        "highest_score_mean = grid_results[grid_results.rank_test_score == 1].iloc[0]['mean_test_score']"
      ],
      "execution_count": 109,
      "outputs": []
    },
    {
      "cell_type": "code",
      "metadata": {
        "colab": {
          "base_uri": "https://localhost:8080/"
        },
        "id": "ZXslg7_d0BTZ",
        "outputId": "369eaf6f-40e1-4287-fac6-7608371db25d"
      },
      "source": [
        "highest_score_mean, highest_score_std"
      ],
      "execution_count": 110,
      "outputs": [
        {
          "output_type": "execute_result",
          "data": {
            "text/plain": [
              "(0.9262662911647412, 1.9302122848106964e-05)"
            ]
          },
          "metadata": {},
          "execution_count": 110
        }
      ]
    },
    {
      "cell_type": "code",
      "metadata": {
        "id": "iGfZ_gFdzmeC"
      },
      "source": [
        "std_error = highest_score_std / np.sqrt(10)\n",
        "one_standard_error = highest_score_mean - std_error"
      ],
      "execution_count": 111,
      "outputs": []
    },
    {
      "cell_type": "code",
      "metadata": {
        "colab": {
          "base_uri": "https://localhost:8080/"
        },
        "id": "lfhmWT8IyO-o",
        "outputId": "04278000-0f67-4862-d616-fc8e4fdf3c50"
      },
      "source": [
        "one_standard_error"
      ],
      "execution_count": 112,
      "outputs": [
        {
          "output_type": "execute_result",
          "data": {
            "text/plain": [
              "0.9262601872975535"
            ]
          },
          "metadata": {},
          "execution_count": 112
        }
      ]
    },
    {
      "cell_type": "code",
      "metadata": {
        "colab": {
          "base_uri": "https://localhost:8080/",
          "height": 557
        },
        "id": "aJCAJEjc0P0W",
        "outputId": "6af9c10c-2182-4dfc-fa94-a052bf8fc9b9"
      },
      "source": [
        "grid_results[grid_results.mean_test_score > one_standard_error].head(10)"
      ],
      "execution_count": 116,
      "outputs": [
        {
          "output_type": "execute_result",
          "data": {
            "text/html": [
              "<div>\n",
              "<style scoped>\n",
              "    .dataframe tbody tr th:only-of-type {\n",
              "        vertical-align: middle;\n",
              "    }\n",
              "\n",
              "    .dataframe tbody tr th {\n",
              "        vertical-align: top;\n",
              "    }\n",
              "\n",
              "    .dataframe thead th {\n",
              "        text-align: right;\n",
              "    }\n",
              "</style>\n",
              "<table border=\"1\" class=\"dataframe\">\n",
              "  <thead>\n",
              "    <tr style=\"text-align: right;\">\n",
              "      <th></th>\n",
              "      <th>mean_fit_time</th>\n",
              "      <th>std_fit_time</th>\n",
              "      <th>mean_score_time</th>\n",
              "      <th>std_score_time</th>\n",
              "      <th>param_xgb__colsample_bytree</th>\n",
              "      <th>param_xgb__learning_rate</th>\n",
              "      <th>param_xgb__max_depth</th>\n",
              "      <th>param_xgb__n_estimators</th>\n",
              "      <th>params</th>\n",
              "      <th>split0_test_score</th>\n",
              "      <th>split1_test_score</th>\n",
              "      <th>split2_test_score</th>\n",
              "      <th>split3_test_score</th>\n",
              "      <th>split4_test_score</th>\n",
              "      <th>mean_test_score</th>\n",
              "      <th>std_test_score</th>\n",
              "      <th>rank_test_score</th>\n",
              "    </tr>\n",
              "  </thead>\n",
              "  <tbody>\n",
              "    <tr>\n",
              "      <th>0</th>\n",
              "      <td>0.286915</td>\n",
              "      <td>0.006307</td>\n",
              "      <td>0.015036</td>\n",
              "      <td>0.000700</td>\n",
              "      <td>0.3</td>\n",
              "      <td>0.01</td>\n",
              "      <td>15</td>\n",
              "      <td>100</td>\n",
              "      <td>{'xgb__colsample_bytree': 0.3, 'xgb__learning_...</td>\n",
              "      <td>0.926282</td>\n",
              "      <td>0.926282</td>\n",
              "      <td>0.926282</td>\n",
              "      <td>0.926243</td>\n",
              "      <td>0.926243</td>\n",
              "      <td>0.926266</td>\n",
              "      <td>0.000019</td>\n",
              "      <td>1</td>\n",
              "    </tr>\n",
              "    <tr>\n",
              "      <th>1</th>\n",
              "      <td>0.980069</td>\n",
              "      <td>0.024228</td>\n",
              "      <td>0.038689</td>\n",
              "      <td>0.001474</td>\n",
              "      <td>0.3</td>\n",
              "      <td>0.01</td>\n",
              "      <td>15</td>\n",
              "      <td>300</td>\n",
              "      <td>{'xgb__colsample_bytree': 0.3, 'xgb__learning_...</td>\n",
              "      <td>0.926282</td>\n",
              "      <td>0.926282</td>\n",
              "      <td>0.926282</td>\n",
              "      <td>0.926243</td>\n",
              "      <td>0.926243</td>\n",
              "      <td>0.926266</td>\n",
              "      <td>0.000019</td>\n",
              "      <td>1</td>\n",
              "    </tr>\n",
              "    <tr>\n",
              "      <th>2</th>\n",
              "      <td>1.593831</td>\n",
              "      <td>0.020951</td>\n",
              "      <td>0.060646</td>\n",
              "      <td>0.002008</td>\n",
              "      <td>0.3</td>\n",
              "      <td>0.01</td>\n",
              "      <td>15</td>\n",
              "      <td>500</td>\n",
              "      <td>{'xgb__colsample_bytree': 0.3, 'xgb__learning_...</td>\n",
              "      <td>0.926282</td>\n",
              "      <td>0.926282</td>\n",
              "      <td>0.926282</td>\n",
              "      <td>0.926243</td>\n",
              "      <td>0.926243</td>\n",
              "      <td>0.926266</td>\n",
              "      <td>0.000019</td>\n",
              "      <td>1</td>\n",
              "    </tr>\n",
              "    <tr>\n",
              "      <th>3</th>\n",
              "      <td>0.283124</td>\n",
              "      <td>0.005162</td>\n",
              "      <td>0.014939</td>\n",
              "      <td>0.000935</td>\n",
              "      <td>0.3</td>\n",
              "      <td>0.01</td>\n",
              "      <td>20</td>\n",
              "      <td>100</td>\n",
              "      <td>{'xgb__colsample_bytree': 0.3, 'xgb__learning_...</td>\n",
              "      <td>0.926282</td>\n",
              "      <td>0.926282</td>\n",
              "      <td>0.926282</td>\n",
              "      <td>0.926243</td>\n",
              "      <td>0.926243</td>\n",
              "      <td>0.926266</td>\n",
              "      <td>0.000019</td>\n",
              "      <td>1</td>\n",
              "    </tr>\n",
              "    <tr>\n",
              "      <th>4</th>\n",
              "      <td>0.976506</td>\n",
              "      <td>0.026202</td>\n",
              "      <td>0.039534</td>\n",
              "      <td>0.001608</td>\n",
              "      <td>0.3</td>\n",
              "      <td>0.01</td>\n",
              "      <td>20</td>\n",
              "      <td>300</td>\n",
              "      <td>{'xgb__colsample_bytree': 0.3, 'xgb__learning_...</td>\n",
              "      <td>0.926282</td>\n",
              "      <td>0.926282</td>\n",
              "      <td>0.926282</td>\n",
              "      <td>0.926243</td>\n",
              "      <td>0.926243</td>\n",
              "      <td>0.926266</td>\n",
              "      <td>0.000019</td>\n",
              "      <td>1</td>\n",
              "    </tr>\n",
              "    <tr>\n",
              "      <th>5</th>\n",
              "      <td>1.597871</td>\n",
              "      <td>0.040053</td>\n",
              "      <td>0.062625</td>\n",
              "      <td>0.003352</td>\n",
              "      <td>0.3</td>\n",
              "      <td>0.01</td>\n",
              "      <td>20</td>\n",
              "      <td>500</td>\n",
              "      <td>{'xgb__colsample_bytree': 0.3, 'xgb__learning_...</td>\n",
              "      <td>0.926282</td>\n",
              "      <td>0.926282</td>\n",
              "      <td>0.926282</td>\n",
              "      <td>0.926243</td>\n",
              "      <td>0.926243</td>\n",
              "      <td>0.926266</td>\n",
              "      <td>0.000019</td>\n",
              "      <td>1</td>\n",
              "    </tr>\n",
              "    <tr>\n",
              "      <th>6</th>\n",
              "      <td>0.284523</td>\n",
              "      <td>0.007817</td>\n",
              "      <td>0.014606</td>\n",
              "      <td>0.000786</td>\n",
              "      <td>0.3</td>\n",
              "      <td>0.01</td>\n",
              "      <td>25</td>\n",
              "      <td>100</td>\n",
              "      <td>{'xgb__colsample_bytree': 0.3, 'xgb__learning_...</td>\n",
              "      <td>0.926282</td>\n",
              "      <td>0.926282</td>\n",
              "      <td>0.926282</td>\n",
              "      <td>0.926243</td>\n",
              "      <td>0.926243</td>\n",
              "      <td>0.926266</td>\n",
              "      <td>0.000019</td>\n",
              "      <td>1</td>\n",
              "    </tr>\n",
              "    <tr>\n",
              "      <th>7</th>\n",
              "      <td>0.987429</td>\n",
              "      <td>0.032797</td>\n",
              "      <td>0.040112</td>\n",
              "      <td>0.002274</td>\n",
              "      <td>0.3</td>\n",
              "      <td>0.01</td>\n",
              "      <td>25</td>\n",
              "      <td>300</td>\n",
              "      <td>{'xgb__colsample_bytree': 0.3, 'xgb__learning_...</td>\n",
              "      <td>0.926282</td>\n",
              "      <td>0.926282</td>\n",
              "      <td>0.926282</td>\n",
              "      <td>0.926243</td>\n",
              "      <td>0.926243</td>\n",
              "      <td>0.926266</td>\n",
              "      <td>0.000019</td>\n",
              "      <td>1</td>\n",
              "    </tr>\n",
              "    <tr>\n",
              "      <th>8</th>\n",
              "      <td>1.621042</td>\n",
              "      <td>0.034152</td>\n",
              "      <td>0.063452</td>\n",
              "      <td>0.002879</td>\n",
              "      <td>0.3</td>\n",
              "      <td>0.01</td>\n",
              "      <td>25</td>\n",
              "      <td>500</td>\n",
              "      <td>{'xgb__colsample_bytree': 0.3, 'xgb__learning_...</td>\n",
              "      <td>0.926282</td>\n",
              "      <td>0.926282</td>\n",
              "      <td>0.926282</td>\n",
              "      <td>0.926243</td>\n",
              "      <td>0.926243</td>\n",
              "      <td>0.926266</td>\n",
              "      <td>0.000019</td>\n",
              "      <td>1</td>\n",
              "    </tr>\n",
              "    <tr>\n",
              "      <th>9</th>\n",
              "      <td>0.340636</td>\n",
              "      <td>0.005227</td>\n",
              "      <td>0.016741</td>\n",
              "      <td>0.000279</td>\n",
              "      <td>0.3</td>\n",
              "      <td>0.05</td>\n",
              "      <td>15</td>\n",
              "      <td>100</td>\n",
              "      <td>{'xgb__colsample_bytree': 0.3, 'xgb__learning_...</td>\n",
              "      <td>0.926282</td>\n",
              "      <td>0.926282</td>\n",
              "      <td>0.926282</td>\n",
              "      <td>0.926243</td>\n",
              "      <td>0.926243</td>\n",
              "      <td>0.926266</td>\n",
              "      <td>0.000019</td>\n",
              "      <td>1</td>\n",
              "    </tr>\n",
              "  </tbody>\n",
              "</table>\n",
              "</div>"
            ],
            "text/plain": [
              "   mean_fit_time  std_fit_time  ...  std_test_score  rank_test_score\n",
              "0       0.286915      0.006307  ...        0.000019                1\n",
              "1       0.980069      0.024228  ...        0.000019                1\n",
              "2       1.593831      0.020951  ...        0.000019                1\n",
              "3       0.283124      0.005162  ...        0.000019                1\n",
              "4       0.976506      0.026202  ...        0.000019                1\n",
              "5       1.597871      0.040053  ...        0.000019                1\n",
              "6       0.284523      0.007817  ...        0.000019                1\n",
              "7       0.987429      0.032797  ...        0.000019                1\n",
              "8       1.621042      0.034152  ...        0.000019                1\n",
              "9       0.340636      0.005227  ...        0.000019                1\n",
              "\n",
              "[10 rows x 17 columns]"
            ]
          },
          "metadata": {},
          "execution_count": 116
        }
      ]
    },
    {
      "cell_type": "code",
      "metadata": {
        "id": "UmSJeS57_hI9"
      },
      "source": [
        ""
      ],
      "execution_count": null,
      "outputs": []
    }
  ]
}
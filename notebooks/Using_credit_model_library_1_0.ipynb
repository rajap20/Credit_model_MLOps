{
  "nbformat": 4,
  "nbformat_minor": 0,
  "metadata": {
    "colab": {
      "name": "Using credit model library 1.0.ipynb",
      "provenance": [],
      "collapsed_sections": []
    },
    "kernelspec": {
      "name": "python3",
      "display_name": "Python 3"
    },
    "language_info": {
      "name": "python"
    }
  },
  "cells": [
    {
      "cell_type": "code",
      "metadata": {
        "id": "-b0tO8hApqUl",
        "colab": {
          "base_uri": "https://localhost:8080/"
        },
        "outputId": "fff090e0-afdf-430c-fbf1-0dc9fed2fc0c"
      },
      "source": [
        "!pip install git+https://github.com/rajap20/MLOpsProject.git"
      ],
      "execution_count": null,
      "outputs": [
        {
          "output_type": "stream",
          "name": "stdout",
          "text": [
            "Collecting git+https://github.com/rajap20/MLOpsProject.git\n",
            "  Cloning https://github.com/rajap20/MLOpsProject.git to /tmp/pip-req-build-nuxlfh0r\n",
            "  Running command git clone -q https://github.com/rajap20/MLOpsProject.git /tmp/pip-req-build-nuxlfh0r\n",
            "Requirement already satisfied: scikit-learn>=0.22.2 in /usr/local/lib/python3.7/dist-packages (from creditpredict==0.2.0) (1.0.1)\n",
            "Requirement already satisfied: joblib>=0.11 in /usr/local/lib/python3.7/dist-packages (from scikit-learn>=0.22.2->creditpredict==0.2.0) (1.1.0)\n",
            "Requirement already satisfied: threadpoolctl>=2.0.0 in /usr/local/lib/python3.7/dist-packages (from scikit-learn>=0.22.2->creditpredict==0.2.0) (3.0.0)\n",
            "Requirement already satisfied: scipy>=1.1.0 in /usr/local/lib/python3.7/dist-packages (from scikit-learn>=0.22.2->creditpredict==0.2.0) (1.4.1)\n",
            "Requirement already satisfied: numpy>=1.14.6 in /usr/local/lib/python3.7/dist-packages (from scikit-learn>=0.22.2->creditpredict==0.2.0) (1.19.5)\n",
            "Building wheels for collected packages: creditpredict\n",
            "  Building wheel for creditpredict (setup.py) ... \u001b[?25l\u001b[?25hdone\n",
            "  Created wheel for creditpredict: filename=creditpredict-0.2.0-py3-none-any.whl size=527773 sha256=75d9a5a9f41b4490774247bf70c765ac221c775dc115c29d9c50dcaa62a20ffe\n",
            "  Stored in directory: /tmp/pip-ephem-wheel-cache-s7c2qs94/wheels/81/f2/9a/d2a70f2dac409ede534251d1d6c49ac9dd074ac349acc725eb\n",
            "Successfully built creditpredict\n",
            "Installing collected packages: creditpredict\n",
            "Successfully installed creditpredict-0.2.0\n"
          ]
        }
      ]
    },
    {
      "cell_type": "markdown",
      "metadata": {
        "id": "KeMTT3-WzrDW"
      },
      "source": [
        "## Checking Library Version Number"
      ]
    },
    {
      "cell_type": "code",
      "metadata": {
        "id": "eKaKLQW3zlwU"
      },
      "source": [
        "import creditpredict"
      ],
      "execution_count": null,
      "outputs": []
    },
    {
      "cell_type": "code",
      "metadata": {
        "colab": {
          "base_uri": "https://localhost:8080/",
          "height": 34
        },
        "id": "PYksb5JozoMB",
        "outputId": "a04e6fb8-af43-4227-b420-d443edf224e6"
      },
      "source": [
        "creditpredict.__version__"
      ],
      "execution_count": null,
      "outputs": [
        {
          "output_type": "execute_result",
          "data": {
            "application/vnd.google.colaboratory.intrinsic+json": {
              "type": "string"
            },
            "text/plain": [
              "'0.1.0'"
            ]
          },
          "metadata": {},
          "execution_count": 3
        }
      ]
    },
    {
      "cell_type": "markdown",
      "metadata": {
        "id": "tV5BoZPUOolV"
      },
      "source": [
        "## Invoking the library"
      ]
    },
    {
      "cell_type": "code",
      "metadata": {
        "id": "z7XzCpsusZiU"
      },
      "source": [
        "from creditpredict import CreditPredictor, CreditPredictionModel"
      ],
      "execution_count": null,
      "outputs": []
    },
    {
      "cell_type": "code",
      "metadata": {
        "id": "IJU-CaqPvCLY"
      },
      "source": [
        "CreditPredictor?"
      ],
      "execution_count": null,
      "outputs": []
    },
    {
      "cell_type": "code",
      "metadata": {
        "id": "0TJV3_wLsnUY"
      },
      "source": [
        "credit_predictor = CreditPredictor()"
      ],
      "execution_count": null,
      "outputs": []
    },
    {
      "cell_type": "markdown",
      "metadata": {
        "id": "GMfK4hIh4YO5"
      },
      "source": [
        "### Getting help for the predict function"
      ]
    },
    {
      "cell_type": "code",
      "metadata": {
        "id": "cKECbvma4Opv"
      },
      "source": [
        "credit_predictor.predict?"
      ],
      "execution_count": null,
      "outputs": []
    },
    {
      "cell_type": "markdown",
      "metadata": {
        "id": "p_ov6MAs4b5e"
      },
      "source": [
        "### Predicting the price of an car"
      ]
    },
    {
      "cell_type": "code",
      "metadata": {
        "colab": {
          "base_uri": "https://localhost:8080/"
        },
        "id": "AGXL1WtIuDEp",
        "outputId": "754e9bb7-3ba1-4c99-b4bc-2440fee04a48"
      },
      "source": [
        "credit_predictor.predict(area_code  =  '3075.0',\n",
        "              asset_cost  =  87000.0,\n",
        "              state  =  \"AP\",\n",
        "              loan_amt  =  71000.0,\n",
        "              resid_type  =  \"O\",\n",
        "              emi  =  0.124252,\n",
        "              net_irr  =  1.321153,\n",
        "              net_salary  =  0.158169,\n",
        "              proc_fee  =  0.093758,\n",
        "              roi  =  0.793282,\n",
        "              age  =  0.306122,\n",
        "              tenure  =  0.470588)"
      ],
      "execution_count": null,
      "outputs": [
        {
          "output_type": "execute_result",
          "data": {
            "text/plain": [
              "0"
            ]
          },
          "metadata": {},
          "execution_count": 8
        }
      ]
    }
  ]
}
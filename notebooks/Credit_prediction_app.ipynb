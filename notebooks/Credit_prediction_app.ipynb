{
  "nbformat": 4,
  "nbformat_minor": 0,
  "metadata": {
    "colab": {
      "name": "Credit_prediction_app.ipynb",
      "provenance": [],
      "collapsed_sections": []
    },
    "kernelspec": {
      "display_name": "Python 3",
      "name": "python3"
    },
    "language_info": {
      "name": "python"
    }
  },
  "cells": [
    {
      "cell_type": "markdown",
      "metadata": {
        "id": "nYwB7sRgOE7b"
      },
      "source": [
        "# Creating a web app to deploy the model"
      ]
    },
    {
      "cell_type": "code",
      "metadata": {
        "id": "12K9TCJCJ3GE",
        "colab": {
          "base_uri": "https://localhost:8080/"
        },
        "outputId": "5eb8ca66-7496-4091-a957-780f9abcd1e0"
      },
      "source": [
        "!pip install wandb\n",
        "!pip install onnxruntime\n",
        "!pip install -q gradio "
      ],
      "execution_count": null,
      "outputs": [
        {
          "output_type": "stream",
          "name": "stdout",
          "text": [
            "Collecting wandb\n",
            "  Downloading wandb-0.12.7-py2.py3-none-any.whl (1.7 MB)\n",
            "\u001b[K     |████████████████████████████████| 1.7 MB 5.6 MB/s \n",
            "\u001b[?25hRequirement already satisfied: promise<3,>=2.0 in /usr/local/lib/python3.7/dist-packages (from wandb) (2.3)\n",
            "Requirement already satisfied: psutil>=5.0.0 in /usr/local/lib/python3.7/dist-packages (from wandb) (5.4.8)\n",
            "Requirement already satisfied: python-dateutil>=2.6.1 in /usr/local/lib/python3.7/dist-packages (from wandb) (2.8.2)\n",
            "Collecting GitPython>=1.0.0\n",
            "  Downloading GitPython-3.1.24-py3-none-any.whl (180 kB)\n",
            "\u001b[K     |████████████████████████████████| 180 kB 46.2 MB/s \n",
            "\u001b[?25hCollecting subprocess32>=3.5.3\n",
            "  Downloading subprocess32-3.5.4.tar.gz (97 kB)\n",
            "\u001b[K     |████████████████████████████████| 97 kB 4.6 MB/s \n",
            "\u001b[?25hCollecting shortuuid>=0.5.0\n",
            "  Downloading shortuuid-1.0.8-py3-none-any.whl (9.5 kB)\n",
            "Requirement already satisfied: requests<3,>=2.0.0 in /usr/local/lib/python3.7/dist-packages (from wandb) (2.23.0)\n",
            "Collecting configparser>=3.8.1\n",
            "  Downloading configparser-5.2.0-py3-none-any.whl (19 kB)\n",
            "Collecting docker-pycreds>=0.4.0\n",
            "  Downloading docker_pycreds-0.4.0-py2.py3-none-any.whl (9.0 kB)\n",
            "Collecting pathtools\n",
            "  Downloading pathtools-0.1.2.tar.gz (11 kB)\n",
            "Requirement already satisfied: six>=1.13.0 in /usr/local/lib/python3.7/dist-packages (from wandb) (1.15.0)\n",
            "Requirement already satisfied: protobuf>=3.12.0 in /usr/local/lib/python3.7/dist-packages (from wandb) (3.17.3)\n",
            "Collecting yaspin>=1.0.0\n",
            "  Downloading yaspin-2.1.0-py3-none-any.whl (18 kB)\n",
            "Collecting sentry-sdk>=1.0.0\n",
            "  Downloading sentry_sdk-1.5.0-py2.py3-none-any.whl (140 kB)\n",
            "\u001b[K     |████████████████████████████████| 140 kB 55.7 MB/s \n",
            "\u001b[?25hRequirement already satisfied: PyYAML in /usr/local/lib/python3.7/dist-packages (from wandb) (3.13)\n",
            "Requirement already satisfied: Click!=8.0.0,>=7.0 in /usr/local/lib/python3.7/dist-packages (from wandb) (7.1.2)\n",
            "Requirement already satisfied: typing-extensions>=3.7.4.3 in /usr/local/lib/python3.7/dist-packages (from GitPython>=1.0.0->wandb) (3.10.0.2)\n",
            "Collecting gitdb<5,>=4.0.1\n",
            "  Downloading gitdb-4.0.9-py3-none-any.whl (63 kB)\n",
            "\u001b[K     |████████████████████████████████| 63 kB 1.6 MB/s \n",
            "\u001b[?25hCollecting smmap<6,>=3.0.1\n",
            "  Downloading smmap-5.0.0-py3-none-any.whl (24 kB)\n",
            "Requirement already satisfied: certifi>=2017.4.17 in /usr/local/lib/python3.7/dist-packages (from requests<3,>=2.0.0->wandb) (2021.10.8)\n",
            "Requirement already satisfied: chardet<4,>=3.0.2 in /usr/local/lib/python3.7/dist-packages (from requests<3,>=2.0.0->wandb) (3.0.4)\n",
            "Requirement already satisfied: idna<3,>=2.5 in /usr/local/lib/python3.7/dist-packages (from requests<3,>=2.0.0->wandb) (2.10)\n",
            "Requirement already satisfied: urllib3!=1.25.0,!=1.25.1,<1.26,>=1.21.1 in /usr/local/lib/python3.7/dist-packages (from requests<3,>=2.0.0->wandb) (1.24.3)\n",
            "Requirement already satisfied: termcolor<2.0.0,>=1.1.0 in /usr/local/lib/python3.7/dist-packages (from yaspin>=1.0.0->wandb) (1.1.0)\n",
            "Building wheels for collected packages: subprocess32, pathtools\n",
            "  Building wheel for subprocess32 (setup.py) ... \u001b[?25l\u001b[?25hdone\n",
            "  Created wheel for subprocess32: filename=subprocess32-3.5.4-py3-none-any.whl size=6502 sha256=bbbc61d5bd81894a61defa2791ee482eb47727fbc1628056934ec91789ce4c99\n",
            "  Stored in directory: /root/.cache/pip/wheels/50/ca/fa/8fca8d246e64f19488d07567547ddec8eb084e8c0d7a59226a\n",
            "  Building wheel for pathtools (setup.py) ... \u001b[?25l\u001b[?25hdone\n",
            "  Created wheel for pathtools: filename=pathtools-0.1.2-py3-none-any.whl size=8807 sha256=3d6f3a4c8863cae4e7c294043261ce5ec0a5bf4e360779006d5d8c57bd369644\n",
            "  Stored in directory: /root/.cache/pip/wheels/3e/31/09/fa59cef12cdcfecc627b3d24273699f390e71828921b2cbba2\n",
            "Successfully built subprocess32 pathtools\n",
            "Installing collected packages: smmap, gitdb, yaspin, subprocess32, shortuuid, sentry-sdk, pathtools, GitPython, docker-pycreds, configparser, wandb\n",
            "Successfully installed GitPython-3.1.24 configparser-5.2.0 docker-pycreds-0.4.0 gitdb-4.0.9 pathtools-0.1.2 sentry-sdk-1.5.0 shortuuid-1.0.8 smmap-5.0.0 subprocess32-3.5.4 wandb-0.12.7 yaspin-2.1.0\n",
            "Collecting onnxruntime\n",
            "  Downloading onnxruntime-1.9.0-cp37-cp37m-manylinux_2_17_x86_64.manylinux2014_x86_64.whl (4.8 MB)\n",
            "\u001b[K     |████████████████████████████████| 4.8 MB 5.4 MB/s \n",
            "\u001b[?25hRequirement already satisfied: numpy>=1.16.6 in /usr/local/lib/python3.7/dist-packages (from onnxruntime) (1.19.5)\n",
            "Requirement already satisfied: protobuf in /usr/local/lib/python3.7/dist-packages (from onnxruntime) (3.17.3)\n",
            "Requirement already satisfied: flatbuffers in /usr/local/lib/python3.7/dist-packages (from onnxruntime) (2.0)\n",
            "Requirement already satisfied: six>=1.9 in /usr/local/lib/python3.7/dist-packages (from protobuf->onnxruntime) (1.15.0)\n",
            "Installing collected packages: onnxruntime\n",
            "Successfully installed onnxruntime-1.9.0\n",
            "\u001b[K     |████████████████████████████████| 979 kB 4.8 MB/s \n",
            "\u001b[K     |████████████████████████████████| 2.0 MB 26.8 MB/s \n",
            "\u001b[K     |████████████████████████████████| 206 kB 60.4 MB/s \n",
            "\u001b[K     |████████████████████████████████| 63 kB 2.3 MB/s \n",
            "\u001b[K     |████████████████████████████████| 961 kB 58.2 MB/s \n",
            "\u001b[K     |████████████████████████████████| 3.6 MB 71.7 MB/s \n",
            "\u001b[?25h  Building wheel for ffmpy (setup.py) ... \u001b[?25l\u001b[?25hdone\n",
            "  Building wheel for flask-cachebuster (setup.py) ... \u001b[?25l\u001b[?25hdone\n"
          ]
        }
      ]
    },
    {
      "cell_type": "code",
      "metadata": {
        "id": "IKb1I4iQKG1n"
      },
      "source": [
        "import os\n",
        "import wandb\n",
        "import pandas as pd\n",
        "import numpy as np\n",
        "import onnxruntime as rt\n",
        "from gradio import gradio as gr"
      ],
      "execution_count": null,
      "outputs": []
    },
    {
      "cell_type": "markdown",
      "metadata": {
        "id": "DasyfJ54s47n"
      },
      "source": [
        "## Initialize Weights and Biases"
      ]
    },
    {
      "cell_type": "code",
      "metadata": {
        "id": "qoFs9SmJKklQ"
      },
      "source": [
        "os.environ[\"WANDB_API_KEY\"] = \"f38031d4fe33eb56cb0d138fc5da4115578dbf43\""
      ],
      "execution_count": null,
      "outputs": []
    },
    {
      "cell_type": "code",
      "metadata": {
        "id": "ZCU4l2dKKo2f",
        "colab": {
          "base_uri": "https://localhost:8080/",
          "height": 52
        },
        "outputId": "e43a7bb1-c076-4e66-857c-68d9615df2bd"
      },
      "source": [
        "run = wandb.init(project='creditpredict')"
      ],
      "execution_count": null,
      "outputs": [
        {
          "output_type": "stream",
          "name": "stderr",
          "text": [
            "\u001b[34m\u001b[1mwandb\u001b[0m: Currently logged in as: \u001b[33mrajap20\u001b[0m (use `wandb login --relogin` to force relogin)\n"
          ]
        },
        {
          "output_type": "display_data",
          "data": {
            "text/html": [
              "\n",
              "                    Syncing run <strong><a href=\"https://wandb.ai/rajap20/creditpredict/runs/qps5kmx9\" target=\"_blank\">upbeat-frost-21</a></strong> to <a href=\"https://wandb.ai/rajap20/creditpredict\" target=\"_blank\">Weights & Biases</a> (<a href=\"https://docs.wandb.com/integrations/jupyter.html\" target=\"_blank\">docs</a>).<br/>\n",
              "\n",
              "                "
            ],
            "text/plain": [
              "<IPython.core.display.HTML object>"
            ]
          },
          "metadata": {}
        }
      ]
    },
    {
      "cell_type": "markdown",
      "metadata": {
        "id": "RdCX1PghtE1X"
      },
      "source": [
        "## Download the model and load it"
      ]
    },
    {
      "cell_type": "code",
      "metadata": {
        "id": "WLpmgRJJTQWH"
      },
      "source": [
        "ARTIFACT_NAME = 'XGBoost_credit:v2'"
      ],
      "execution_count": null,
      "outputs": []
    },
    {
      "cell_type": "code",
      "metadata": {
        "id": "xzJg1mcRfiT1"
      },
      "source": [
        "#run = wandb.init()\n",
        "artifact = run.use_artifact('rajap20/creditpredict/' + ARTIFACT_NAME, type='model')\n",
        "artifact_dir = artifact.download()"
      ],
      "execution_count": null,
      "outputs": []
    },
    {
      "cell_type": "code",
      "metadata": {
        "id": "1Uas_tgxKxB_"
      },
      "source": [
        "#run = wandb.init()ARTIFACT_NAME\n",
        "#artifact = run.use_artifact('rajap20/creditpredict/' + , type='model')\n",
        "#artifact_dir = artifact.download()"
      ],
      "execution_count": null,
      "outputs": []
    },
    {
      "cell_type": "code",
      "metadata": {
        "colab": {
          "base_uri": "https://localhost:8080/",
          "height": 34
        },
        "id": "iZeXHJTmLhFz",
        "outputId": "284c6407-11ca-4929-adef-d6cd901ebfe2"
      },
      "source": [
        "artifact_dir"
      ],
      "execution_count": null,
      "outputs": [
        {
          "output_type": "execute_result",
          "data": {
            "application/vnd.google.colaboratory.intrinsic+json": {
              "type": "string"
            },
            "text/plain": [
              "'./artifacts/XGBoost_credit:v2'"
            ]
          },
          "metadata": {},
          "execution_count": 8
        }
      ]
    },
    {
      "cell_type": "code",
      "metadata": {
        "colab": {
          "base_uri": "https://localhost:8080/"
        },
        "id": "aQfbD9G0LrxE",
        "outputId": "7eba1487-0250-4e88-beb0-3d9cdd7fa713"
      },
      "source": [
        "!ls -al  ./artifacts/XGBoost_credit:v2"
      ],
      "execution_count": null,
      "outputs": [
        {
          "output_type": "stream",
          "name": "stdout",
          "text": [
            "total 872\n",
            "drwxr-xr-x 2 root root   4096 Dec  7 13:18 .\n",
            "drwxr-xr-x 3 root root   4096 Dec  7 13:18 ..\n",
            "-rw-r--r-- 1 root root 884196 Dec  7 13:18 credit_xgboost.onnx\n"
          ]
        }
      ]
    },
    {
      "cell_type": "markdown",
      "metadata": {
        "id": "fKLQFEQ21RVc"
      },
      "source": [
        "http://onnx.ai/sklearn-onnx/auto_examples/plot_complex_pipeline.html#example-complex-pipeline"
      ]
    },
    {
      "cell_type": "markdown",
      "metadata": {
        "id": "UxdJ_iLZzEpR"
      },
      "source": [
        "## Columns"
      ]
    },
    {
      "cell_type": "code",
      "metadata": {
        "id": "wQaAV87NzGXX"
      },
      "source": [
        "x_columns = ['area_code', \n",
        "              'state', 'resid_type', 'net_irr', 'proc_fee',\n",
        "       'asset_cost', 'loan_amt', 'emi', 'net_salary', 'roi', 'tenure',\n",
        "       'age']\n",
        "\n",
        "cat_features = ['area_code', \n",
        "                'state', 'resid_type']\n",
        "\n",
        "num_features = list(set(x_columns) - set(cat_features)) "
      ],
      "execution_count": null,
      "outputs": []
    },
    {
      "cell_type": "markdown",
      "metadata": {
        "id": "cQMqOM2HtMrF"
      },
      "source": [
        "## Implement the predict() function\n",
        "\n",
        "The followng inputs need to be supplied:\n",
        "\n",
        "['KM_Driven', 'Fuel_Type', 'age',\n",
        "'Transmission', 'Owner_Type', 'Seats',\n",
        "'make', 'mileage_new', 'engine_new', 'model',\n",
        "'power_new', 'Location']"
      ]
    },
    {
      "cell_type": "code",
      "metadata": {
        "id": "2i6hvyjZtJzz"
      },
      "source": [
        "def predict_price(area_code, state, resid_type, net_irr, proc_fee,\n",
        "       asset_cost, loan_amt, emi, net_salary, roi, tenure, age):\n",
        "\n",
        "\n",
        "    inputs_dict = {'area_code' : area_code,\n",
        "                  'state' :  state,\n",
        "                  'resid_type' :  resid_type,\n",
        "                  'net_irr' :  float(net_irr),\n",
        "                  'proc_fee' : float(proc_fee),\n",
        "                  'asset_cost' : float(asset_cost),\n",
        "                  'loan_amt' :  float(loan_amt),\n",
        "                  'emi' :  float(emi),                 \n",
        "                  'net_salary' : float(net_salary),\n",
        "                  'tenure' : float(tenure),\n",
        "                  'roi' : float(roi),\n",
        "                  'age' : float(age)}\n",
        "\n",
        "    df = pd.DataFrame(inputs_dict, index = [0])\n",
        "    print(df)\n",
        "\n",
        "    inputs = {c: df[c].values for c in df.columns}\n",
        "    for c in num_features:\n",
        "        inputs[c] = inputs[c].astype(np.float32)\n",
        "    for k in inputs:\n",
        "        inputs[k] = inputs[k].reshape((inputs[k].shape[0], 1))            \n",
        "  \n",
        "    sess = rt.InferenceSession(artifact_dir + '/credit_xgboost.onnx')\n",
        "    pred_onx = sess.run(None, inputs)\n",
        "\n",
        "    predicted_price = float(pred_onx[1][0][1])\n",
        "    return {f'Probability of default: {np.round(predicted_price, 2)}'}"
      ],
      "execution_count": null,
      "outputs": []
    },
    {
      "cell_type": "markdown",
      "metadata": {
        "id": "bruYG5cSuRqR"
      },
      "source": [
        "## Implement UI"
      ]
    },
    {
      "cell_type": "code",
      "metadata": {
        "id": "6wRkrnYHuQp3",
        "colab": {
          "base_uri": "https://localhost:8080/",
          "height": 1000
        },
        "outputId": "b6bed370-34e9-4911-d3a9-68b961c4fba8"
      },
      "source": [
        "\n",
        "area_code = gr.inputs.Textbox(default='3075.0', label=\"Area Code\")\n",
        "state = gr.inputs.Dropdown(list([\"AP\", \"AS\", \"BR\", \"CG\", \"DL\", \"UP\", \"HA\", \"GJ\", \"HP\", \"CH\", \"JH\",\n",
        "       \"JK\", \"KA\", \"KL\", \"MH\", \"MP\", \"OR\", \"TN\", \"PY\", \"PB\", \"RJ\", \"WB\",\n",
        "      \"UC\", \"TR\", \"MN\"]), default=\"AP\", label=\"State\")\n",
        "tenure = gr.inputs.Number(default=0.470588\t, label=\"Tenure\")\n",
        "roi = gr.inputs.Number(default=-0.793282, label=\"Rate of Interest\")\n",
        "emi = gr.inputs.Number(default=0.124252, label=\"EMI\")\n",
        "proc_fee = gr.inputs.Number(default=-0.093758, label=\"Processing Fee\")\n",
        "asset_cost = gr.inputs.Number(default=87000.0, label=\"Asset cost\")\n",
        "loan_amt = gr.inputs.Number(default=71000.0, label=\"Loan Amount\")\n",
        "resid_type = gr.inputs.Radio([\"O\", \"R\", \"L\"],  default=\"O\", label = \"Residence Type (O: Owned, R: Rented, L: Leased)\")\n",
        "age = gr.inputs.Number(default=0.306122, label=\"Age\")\n",
        "net_salary = gr.inputs.Number(default=\t0.158169, label=\"Net Salary\")\n",
        "net_irr = gr.inputs.Number(default=-1.321153, label=\"Net Internal Rate of return\")\n",
        "\n",
        "gr.Interface(predict_price, [area_code, state, resid_type, net_irr, proc_fee, asset_cost, loan_amt, emi, net_salary, roi, tenure, age], \"text\", live=False).launch(debug=True);"
      ],
      "execution_count": null,
      "outputs": [
        {
          "metadata": {
            "tags": null
          },
          "name": "stdout",
          "output_type": "stream",
          "text": [
            "Colab notebook detected. This cell will run indefinitely so that you can see errors and logs. To turn off, set debug=False in launch().\n",
            "Running on public URL: https://59574.gradio.app\n",
            "\n",
            "This share link will expire in 72 hours. To get longer links, send an email to: support@gradio.app\n"
          ]
        },
        {
          "data": {
            "text/html": [
              "\n",
              "        <iframe\n",
              "            width=\"900\"\n",
              "            height=\"500\"\n",
              "            src=\"https://59574.gradio.app\"\n",
              "            frameborder=\"0\"\n",
              "            allowfullscreen\n",
              "        ></iframe>\n",
              "        "
            ],
            "text/plain": [
              "<IPython.lib.display.IFrame at 0x7f98a067e590>"
            ]
          },
          "metadata": {},
          "output_type": "display_data"
        },
        {
          "metadata": {
            "tags": null
          },
          "name": "stdout",
          "output_type": "stream",
          "text": [
            "  area_code state resid_type  ...    tenure       roi       age\n",
            "0      3000    TN          R  ...  0.588235  0.508577  0.428571\n",
            "\n",
            "[1 rows x 12 columns]\n",
            "  area_code state resid_type  ...    tenure       roi       age\n",
            "0      3000    PB          R  ...  0.588235  0.508577  0.428571\n",
            "\n",
            "[1 rows x 12 columns]\n",
            "  area_code state resid_type  ...    tenure       roi       age\n",
            "0      3000    PB          R  ...  0.588235  0.508577  0.428571\n",
            "\n",
            "[1 rows x 12 columns]\n",
            "  area_code state resid_type  ...    tenure       roi       age\n",
            "0      3000    PB          R  ...  0.588235  0.508577  0.428571\n",
            "\n",
            "[1 rows x 12 columns]\n",
            "  area_code state resid_type  ...    tenure       roi       age\n",
            "0      3000    PB          R  ...  0.588235  0.508577  0.428571\n",
            "\n",
            "[1 rows x 12 columns]\n",
            "  area_code state resid_type  ...    tenure       roi       age\n",
            "0      3000    PB          R  ...  0.588235  0.508577  0.428571\n",
            "\n",
            "[1 rows x 12 columns]\n",
            "  area_code state resid_type  ...    tenure       roi       age\n",
            "0      3000    PB          R  ...  0.588235  0.508577  0.428571\n",
            "\n",
            "[1 rows x 12 columns]\n",
            "  area_code state resid_type  net_irr  ...  net_salary  tenure      roi      age\n",
            "0    3000.0    TN          R  -0.3999  ...    -0.79483   0.588  0.50857  0.42857\n",
            "\n",
            "[1 rows x 12 columns]\n",
            "  area_code state resid_type   net_irr  ...  net_salary  tenure       roi       age\n",
            "0    3005.0    TN          L  0.427875  ...    -0.09262  0.3529  0.556206  0.285714\n",
            "\n",
            "[1 rows x 12 columns]\n",
            "  area_code state resid_type  net_irr  ...  net_salary  tenure       roi  age\n",
            "0    3061.0    OR          R   0.5567  ...       1.123  0.5629  0.456206  1.0\n",
            "\n",
            "[1 rows x 12 columns]\n",
            "  area_code state resid_type  net_irr  ...  net_salary  tenure       roi  age\n",
            "0    3042.0    WB          R     1.12  ...      0.3434  0.5629  0.456206  0.5\n",
            "\n",
            "[1 rows x 12 columns]\n"
          ]
        }
      ]
    }
  ]
}